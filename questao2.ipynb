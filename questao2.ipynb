{
 "cells": [
  {
   "cell_type": "markdown",
   "id": "df1261f0-3180-411f-b026-a5a06c4d7e15",
   "metadata": {},
   "source": [
    "## Treinamento com a VGG 16"
   ]
  },
  {
   "cell_type": "markdown",
   "id": "52cc1952-3310-4a21-af80-5052907fafef",
   "metadata": {},
   "source": [
    "### Import de bibliotecas principais"
   ]
  },
  {
   "cell_type": "code",
   "execution_count": 20,
   "id": "7acd5d70-b4a5-49d0-8e16-34272609be19",
   "metadata": {},
   "outputs": [],
   "source": [
    "import torch\n",
    "import torch.nn as nn\n",
    "import numpy as np\n",
    "import os\n",
    "import numpy as np\n",
    "import torch\n",
    "import pickle\n",
    "from PIL import Image\n",
    "import glob\n",
    "#from vision.references.detection import transforms as T   # torchvision.transforms as T\n",
    "from torchvision import datasets, transforms\n",
    "from PIL import ImageFilter\n",
    "from sklearn.metrics import accuracy_score, confusion_matrix\n",
    "from sklearn.svm import LinearSVC\n",
    "from sklearn.metrics import classification_report\n",
    "import seaborn as sns\n",
    "import matplotlib.pyplot as plt"
   ]
  },
  {
   "cell_type": "markdown",
   "id": "7c987b63-eadb-45fb-88e6-7bad9c0884da",
   "metadata": {},
   "source": [
    "### Load de dataset"
   ]
  },
  {
   "cell_type": "code",
   "execution_count": 2,
   "id": "5e927327-6ff2-4085-ab7f-881286bc9c2d",
   "metadata": {},
   "outputs": [],
   "source": [
    "'''\n",
    "Função para salvar estrutura de dados\n",
    "em extensão .pckl para posterior uso\n",
    "'''\n",
    "def save_data(data, save_path):\n",
    "    with open(save_path, 'wb') as f:\n",
    "        pickle.dump(data, f)\n",
    "\n",
    "'''\n",
    "Função para carregar estrutura de dados\n",
    "salva em extensão .pckl\n",
    "'''\n",
    "def load_data(data_path):\n",
    "    with open(data_path, 'rb') as f:\n",
    "        return pickle.load(f)"
   ]
  },
  {
   "cell_type": "code",
   "execution_count": 3,
   "id": "97fd55ad-0d08-44a5-8561-d217775ba4c9",
   "metadata": {},
   "outputs": [],
   "source": [
    "# Transformação para tensor, resize\n",
    "# crop e normalização das imagens\n",
    "def get_transform():\n",
    "    transform = transforms.Compose([\n",
    "    transforms.Resize(256),\n",
    "    transforms.CenterCrop(224),\n",
    "    transforms.ToTensor(),\n",
    "    transforms.Normalize(mean=[0.485, 0.456, 0.406], std=[0.229, 0.224, 0.225]),\n",
    "    ])\n",
    "    return transform\n",
    "\n",
    "# Obtém o dataloader a partir de uma pasta\n",
    "# Para testar o método, inicialmente treinei com duas classes, apenas. \n",
    "# Infelizmente, não tive tempo de otimizar o método para\n",
    "# prosseguir com as demais classes\n",
    "dataset = datasets.ImageFolder(\n",
    "    root='dataset/temp/',\n",
    "    transform=get_transform()\n",
    ")"
   ]
  },
  {
   "cell_type": "code",
   "execution_count": 4,
   "id": "4b9173c9-6a1d-4613-84fc-7c2f6676cfb6",
   "metadata": {},
   "outputs": [],
   "source": [
    "from torch.utils.data import Dataset, DataLoader\n",
    "from sklearn.model_selection import train_test_split\n",
    "from torch.utils.data import Subset\n",
    "\n",
    "\n",
    "def train_val_dataset(dataset, val_split=0.3):\n",
    "    train_idx, val_idx = train_test_split(list(range(len(dataset))), test_size=val_split)\n",
    "    datasets = {}\n",
    "    datasets['train'] = Subset(dataset, train_idx)\n",
    "    datasets['val'] = Subset(dataset, val_idx)\n",
    "    return datasets\n",
    "\n",
    "datasets = train_val_dataset(dataset)\n",
    "\n",
    "data_loader_train = DataLoader(datasets['train'], batch_size=1, shuffle=True, num_workers=4, pin_memory=True)\n",
    "data_loader_test = DataLoader(datasets['val'], batch_size=1, shuffle=True, num_workers=4, pin_memory=True) #"
   ]
  },
  {
   "cell_type": "markdown",
   "id": "83de4ac9-619e-4a9b-bc96-c170e76ef61d",
   "metadata": {},
   "source": [
    "### Montagem do modelo"
   ]
  },
  {
   "cell_type": "code",
   "execution_count": 5,
   "id": "2c4d92c8-bc1f-4d37-b24f-b3ae13f458be",
   "metadata": {
    "collapsed": true,
    "jupyter": {
     "outputs_hidden": true
    },
    "tags": []
   },
   "outputs": [
    {
     "name": "stderr",
     "output_type": "stream",
     "text": [
      "Using cache found in /root/.cache/torch/hub/pytorch_vision_v0.10.0\n"
     ]
    },
    {
     "data": {
      "text/plain": [
       "Sequential(\n",
       "  (0): Conv2d(3, 64, kernel_size=(3, 3), stride=(1, 1), padding=(1, 1))\n",
       "  (1): ReLU(inplace=True)\n",
       "  (2): Conv2d(64, 64, kernel_size=(3, 3), stride=(1, 1), padding=(1, 1))\n",
       "  (3): ReLU(inplace=True)\n",
       "  (4): MaxPool2d(kernel_size=2, stride=2, padding=0, dilation=1, ceil_mode=False)\n",
       "  (5): Conv2d(64, 128, kernel_size=(3, 3), stride=(1, 1), padding=(1, 1))\n",
       "  (6): ReLU(inplace=True)\n",
       "  (7): Conv2d(128, 128, kernel_size=(3, 3), stride=(1, 1), padding=(1, 1))\n",
       "  (8): ReLU(inplace=True)\n",
       "  (9): MaxPool2d(kernel_size=2, stride=2, padding=0, dilation=1, ceil_mode=False)\n",
       "  (10): Conv2d(128, 256, kernel_size=(3, 3), stride=(1, 1), padding=(1, 1))\n",
       "  (11): ReLU(inplace=True)\n",
       "  (12): Conv2d(256, 256, kernel_size=(3, 3), stride=(1, 1), padding=(1, 1))\n",
       "  (13): ReLU(inplace=True)\n",
       "  (14): Conv2d(256, 256, kernel_size=(3, 3), stride=(1, 1), padding=(1, 1))\n",
       "  (15): ReLU(inplace=True)\n",
       "  (16): MaxPool2d(kernel_size=2, stride=2, padding=0, dilation=1, ceil_mode=False)\n",
       "  (17): Conv2d(256, 512, kernel_size=(3, 3), stride=(1, 1), padding=(1, 1))\n",
       "  (18): ReLU(inplace=True)\n",
       "  (19): Conv2d(512, 512, kernel_size=(3, 3), stride=(1, 1), padding=(1, 1))\n",
       "  (20): ReLU(inplace=True)\n",
       "  (21): Conv2d(512, 512, kernel_size=(3, 3), stride=(1, 1), padding=(1, 1))\n",
       "  (22): ReLU(inplace=True)\n",
       "  (23): MaxPool2d(kernel_size=2, stride=2, padding=0, dilation=1, ceil_mode=False)\n",
       "  (24): Conv2d(512, 512, kernel_size=(3, 3), stride=(1, 1), padding=(1, 1))\n",
       "  (25): ReLU(inplace=True)\n",
       "  (26): Conv2d(512, 512, kernel_size=(3, 3), stride=(1, 1), padding=(1, 1))\n",
       "  (27): ReLU(inplace=True)\n",
       "  (28): Conv2d(512, 512, kernel_size=(3, 3), stride=(1, 1), padding=(1, 1))\n",
       "  (29): ReLU(inplace=True)\n",
       "  (30): MaxPool2d(kernel_size=2, stride=2, padding=0, dilation=1, ceil_mode=False)\n",
       ")"
      ]
     },
     "execution_count": 5,
     "metadata": {},
     "output_type": "execute_result"
    }
   ],
   "source": [
    "# Obtém VGG 16 pretreinada do ImageNet\n",
    "model = torch.hub.load('pytorch/vision:v0.10.0', 'vgg16', pretrained=True)\n",
    "\n",
    "# Obtém somente a camada de encoding\n",
    "new_model = model.features \n",
    "new_model"
   ]
  },
  {
   "cell_type": "markdown",
   "id": "dc218172-72b1-4a73-8820-1fa106ad2b86",
   "metadata": {},
   "source": [
    "# Extração de features usando VGG 16"
   ]
  },
  {
   "cell_type": "code",
   "execution_count": 6,
   "id": "510ba7b8-ac19-4b5e-9f86-6a6425169b11",
   "metadata": {},
   "outputs": [],
   "source": [
    "device = torch.device('cuda')\n",
    "model = new_model.to(device)\n",
    "\n",
    "# Para cada imagem do data loader,\n",
    "# obtém as features correspondentes\n",
    "_data=[]\n",
    "_label=[]\n",
    "for i, (data, label) in enumerate(data_loader_train):\n",
    "    data, label = data.to(device), label.to(device)\n",
    "    pred_speed = model(data)\n",
    "    _data.append(list(pred_speed.reshape([1, 25088]).cpu().detach().numpy()[0]))\n",
    "    _label.append(label.cpu().detach().numpy()[0])"
   ]
  },
  {
   "cell_type": "code",
   "execution_count": null,
   "id": "2b4e3026-0f6e-4f65-b5ae-96e9288b9638",
   "metadata": {},
   "outputs": [],
   "source": [
    "#salvar features\n",
    "save_data(_data, './dataset/_data_vgg.pkl')\n",
    "#save_data(_label, './dataset/_label_vgg.pkl')"
   ]
  },
  {
   "cell_type": "code",
   "execution_count": 7,
   "id": "6a02c75b-d731-490f-b9be-d97b4e14f19d",
   "metadata": {},
   "outputs": [],
   "source": [
    "device = torch.device('cuda')\n",
    "model = new_model.to(device)\n",
    "\n",
    "# Para cada imagem do data loader,\n",
    "# obtém as features correspondentes\n",
    "_data_test=[]\n",
    "_label_test=[]\n",
    "for i, (data, label) in enumerate(data_loader_test):\n",
    "    data, label = data.to(device), label.to(device)\n",
    "    pred_speed = model(data)\n",
    "    _data_test.append(list(pred_speed.reshape([1, 25088]).cpu().detach().numpy()[0]))\n",
    "    _label_test.append(label.cpu().detach().numpy()[0])"
   ]
  },
  {
   "cell_type": "markdown",
   "id": "d65a2e67-ab43-4cea-9af0-a012b501d340",
   "metadata": {},
   "source": [
    "## Treinamento a partir das features da VGG"
   ]
  },
  {
   "cell_type": "markdown",
   "id": "899057ff-cf6f-4ec2-a708-4792e90b159c",
   "metadata": {},
   "source": [
    "### Métricas de avaliação"
   ]
  },
  {
   "cell_type": "markdown",
   "id": "0978eacc-17b9-4a2e-8fa9-6f9b8379416d",
   "metadata": {},
   "source": [
    "Maior precision significa que o modelo retorna resultados mais relevantes do que inrelevantes, enquanto que maior recall significa que o modelo retorna a maioria dos resultados relevantes. F1-score combina a precisão e o reccal em uma unica métrica. É basicamente uma média \"harmônica\" entre a precision e o recall. A matriz de confusão sumariza a performace do modelo. Das redes treinadas abaixo, a SVM foi que obteve o melhor resultado, sendo apenas 16 amostras de gato apontadas erronemanete como cachorro e 13 de cachorros apontadas erroneamente como gatos.\n",
    "\n",
    "---------\n",
    " 0 - gato;\n",
    " 1 - cachorro"
   ]
  },
  {
   "cell_type": "markdown",
   "id": "6d61cb0d-abfd-4a4e-90f9-df952b7d4ad3",
   "metadata": {
    "tags": []
   },
   "source": [
    "### Treinamento SVM"
   ]
  },
  {
   "cell_type": "code",
   "execution_count": 8,
   "id": "434cc7a8-e4be-49d8-8360-5aa497e53ce6",
   "metadata": {
    "tags": []
   },
   "outputs": [
    {
     "data": {
      "text/plain": [
       "LinearSVC(C=1.0, class_weight=None, dual=True, fit_intercept=True,\n",
       "          intercept_scaling=1, loss='squared_hinge', max_iter=10000,\n",
       "          multi_class='ovr', penalty='l2', random_state=None, tol=0.0001,\n",
       "          verbose=0)"
      ]
     },
     "execution_count": 8,
     "metadata": {},
     "output_type": "execute_result"
    }
   ],
   "source": [
    "clf=LinearSVC(max_iter=10000)#80000\n",
    "clf.fit(_data,_label)"
   ]
  },
  {
   "cell_type": "markdown",
   "id": "408cdb84-f5a5-4ff3-b401-a305bad53db5",
   "metadata": {
    "tags": []
   },
   "source": [
    "### Pecision, Recall, F1-Score"
   ]
  },
  {
   "cell_type": "code",
   "execution_count": 11,
   "id": "d27f4a11-6e6b-46f4-b4a0-22ec1e9faa1f",
   "metadata": {},
   "outputs": [
    {
     "name": "stdout",
     "output_type": "stream",
     "text": [
      "              precision    recall  f1-score   support\n",
      "\n",
      "           0       0.97      0.97      0.97       504\n",
      "           1       0.98      0.98      0.98       661\n",
      "\n",
      "    accuracy                           0.98      1165\n",
      "   macro avg       0.97      0.97      0.97      1165\n",
      "weighted avg       0.98      0.98      0.98      1165\n",
      "\n"
     ]
    }
   ],
   "source": [
    "predictions_svm = clf.predict(_data_test)\n",
    "print(classification_report(_label_test, predictions_svm))"
   ]
  },
  {
   "cell_type": "markdown",
   "id": "e77c1e4b-4486-413f-a1c0-b2c290aa9b95",
   "metadata": {},
   "source": [
    "### Matriz de confusão"
   ]
  },
  {
   "cell_type": "code",
   "execution_count": 12,
   "id": "af7ab683-98e2-4c87-be9d-ff2c79c24012",
   "metadata": {},
   "outputs": [
    {
     "data": {
      "image/png": "[encoded data removed]",
      "text/plain": [
       "<Figure size 648x648 with 2 Axes>"
      ]
     },
     "metadata": {
      "needs_background": "light"
     },
     "output_type": "display_data"
    }
   ],
   "source": [
    "import seaborn as sns\n",
    "\n",
    "acc_svm = accuracy_score(_label_test, predictions_svm)\n",
    "predictions_svm = clf.predict(_data_test)\n",
    "cm = confusion_matrix(_label_test, predictions_svm)\n",
    "\n",
    "plt.figure(figsize=(9,9))\n",
    "sns.heatmap(cm, annot=True, fmt=\".3f\", linewidths=.5, square = True, cmap = 'Blues_r');\n",
    "plt.ylabel('Actual label');\n",
    "plt.xlabel('Predicted label');\n",
    "all_sample_title = 'Accuracy Score: {0}'.format(acc_svm)\n",
    "plt.title(all_sample_title, size = 15);"
   ]
  },
  {
   "cell_type": "markdown",
   "id": "cded8ead-c648-4632-88d4-1616fc641ddb",
   "metadata": {
    "tags": []
   },
   "source": [
    "# Treinamento KNN"
   ]
  },
  {
   "cell_type": "code",
   "execution_count": 13,
   "id": "63b3a1db-2b58-483e-8277-ee73f62c86bd",
   "metadata": {},
   "outputs": [
    {
     "data": {
      "text/plain": [
       "KNeighborsClassifier(algorithm='auto', leaf_size=30, metric='minkowski',\n",
       "                     metric_params=None, n_jobs=None, n_neighbors=5, p=2,\n",
       "                     weights='uniform')"
      ]
     },
     "execution_count": 13,
     "metadata": {},
     "output_type": "execute_result"
    }
   ],
   "source": [
    "from sklearn.neighbors import KNeighborsClassifier\n",
    "\n",
    "model = KNeighborsClassifier()\n",
    "model.fit(_data,_label)"
   ]
  },
  {
   "cell_type": "code",
   "execution_count": 14,
   "id": "4e7a9b38-627f-40b8-ace6-57497318096d",
   "metadata": {},
   "outputs": [],
   "source": [
    "predictions_knn = model.predict(_data_test)"
   ]
  },
  {
   "cell_type": "markdown",
   "id": "0486dafd-d2db-4ca2-ae6b-8fa32762f70e",
   "metadata": {
    "tags": []
   },
   "source": [
    "### Pecision, Recall, F1-Score"
   ]
  },
  {
   "cell_type": "code",
   "execution_count": 16,
   "id": "fa153ce2-3bb5-4772-a931-6ef6a2d15348",
   "metadata": {},
   "outputs": [
    {
     "name": "stdout",
     "output_type": "stream",
     "text": [
      "              precision    recall  f1-score   support\n",
      "\n",
      "           0       0.86      0.95      0.91       504\n",
      "           1       0.96      0.89      0.92       661\n",
      "\n",
      "    accuracy                           0.92      1165\n",
      "   macro avg       0.91      0.92      0.91      1165\n",
      "weighted avg       0.92      0.92      0.92      1165\n",
      "\n"
     ]
    }
   ],
   "source": [
    "print(classification_report(_label_test, predictions_knn))"
   ]
  },
  {
   "cell_type": "markdown",
   "id": "cf92e433-6a18-4d45-b90a-fa9fdcdc0caf",
   "metadata": {},
   "source": [
    "### Matriz de confusão"
   ]
  },
  {
   "cell_type": "code",
   "execution_count": 17,
   "id": "3f1296db-829b-4090-9e5b-686c70ddd5bf",
   "metadata": {},
   "outputs": [
    {
     "data": {
      "image/png": "[encoded data removed]",
      "text/plain": [
       "<Figure size 648x648 with 2 Axes>"
      ]
     },
     "metadata": {
      "needs_background": "light"
     },
     "output_type": "display_data"
    }
   ],
   "source": [
    "import seaborn as sns\n",
    "\n",
    "acc_svm = accuracy_score(_label_test, predictions_knn)\n",
    "cm = confusion_matrix(_label_test, predictions_knn)\n",
    "\n",
    "plt.figure(figsize=(9,9))\n",
    "sns.heatmap(cm, annot=True, fmt=\".3f\", linewidths=.5, square = True, cmap = 'Blues_r');\n",
    "plt.ylabel('Actual label');\n",
    "plt.xlabel('Predicted label');\n",
    "all_sample_title = 'Accuracy Score: {0}'.format(acc_svm)\n",
    "plt.title(all_sample_title, size = 15);"
   ]
  },
  {
   "cell_type": "markdown",
   "id": "3023cf01-08b0-49a7-a8e6-4f34a33515d3",
   "metadata": {
    "tags": []
   },
   "source": [
    "# Treinamento Logistic Regression"
   ]
  },
  {
   "cell_type": "code",
   "execution_count": 22,
   "id": "84969c87-4ccd-4702-b1d5-bad93f22b834",
   "metadata": {},
   "outputs": [
    {
     "data": {
      "text/plain": [
       "LogisticRegression(C=1.0, class_weight=None, dual=False, fit_intercept=True,\n",
       "                   intercept_scaling=1, l1_ratio=None, max_iter=100,\n",
       "                   multi_class='auto', n_jobs=None, penalty='l2',\n",
       "                   random_state=None, solver='liblinear', tol=0.0001, verbose=0,\n",
       "                   warm_start=False)"
      ]
     },
     "execution_count": 22,
     "metadata": {},
     "output_type": "execute_result"
    }
   ],
   "source": [
    "from sklearn.linear_model import LogisticRegression\n",
    "\n",
    "logisticRegr = LogisticRegression(solver='liblinear')\n",
    "logisticRegr.fit(_data, _label)"
   ]
  },
  {
   "cell_type": "code",
   "execution_count": 23,
   "id": "c20d9160-50d1-4a50-afb2-c467584a049a",
   "metadata": {},
   "outputs": [],
   "source": [
    "predictions_lr = model.predict(_data_test)"
   ]
  },
  {
   "cell_type": "markdown",
   "id": "e77297e3-2b66-4d8b-bfc2-7afae20ac3c4",
   "metadata": {
    "tags": []
   },
   "source": [
    "### Pecision, Recall, F1-Score"
   ]
  },
  {
   "cell_type": "code",
   "execution_count": 25,
   "id": "362587fc-ce17-45cb-afc7-f9bbfdf2e820",
   "metadata": {},
   "outputs": [
    {
     "name": "stdout",
     "output_type": "stream",
     "text": [
      "              precision    recall  f1-score   support\n",
      "\n",
      "           0       0.86      0.95      0.91       504\n",
      "           1       0.96      0.89      0.92       661\n",
      "\n",
      "    accuracy                           0.92      1165\n",
      "   macro avg       0.91      0.92      0.91      1165\n",
      "weighted avg       0.92      0.92      0.92      1165\n",
      "\n"
     ]
    }
   ],
   "source": [
    "print(classification_report(_label_test,predictions_lr))"
   ]
  },
  {
   "cell_type": "markdown",
   "id": "01b910d0-7409-48f0-bbe5-0d82c3962a97",
   "metadata": {},
   "source": [
    "### Matriz de confusão"
   ]
  },
  {
   "cell_type": "code",
   "execution_count": 26,
   "id": "e9562d70-93c5-4814-a874-366392a7ec1d",
   "metadata": {},
   "outputs": [
    {
     "data": {
      "image/png": "[encoded data removed]",
      "text/plain": [
       "<Figure size 648x648 with 2 Axes>"
      ]
     },
     "metadata": {
      "needs_background": "light"
     },
     "output_type": "display_data"
    }
   ],
   "source": [
    "import seaborn as sns\n",
    "\n",
    "acc_svm = accuracy_score(_label_test, predictions_lr)\n",
    "cm = confusion_matrix(_label_test, predictions_lr)\n",
    "\n",
    "plt.figure(figsize=(9,9))\n",
    "sns.heatmap(cm, annot=True, fmt=\".3f\", linewidths=.5, square = True, cmap = 'Blues_r');\n",
    "plt.ylabel('Actual label');\n",
    "plt.xlabel('Predicted label');\n",
    "all_sample_title = 'Accuracy Score: {0}'.format(acc_svm)\n",
    "plt.title(all_sample_title, size = 15);"
   ]
  },
  {
   "cell_type": "code",
   "execution_count": null,
   "id": "d5f87e88-42b8-4399-9961-de67cf56e143",
   "metadata": {},
   "outputs": [],
   "source": []
  }
 ],
 "metadata": {
  "kernelspec": {
   "display_name": "Python 3 (ipykernel)",
   "language": "python",
   "name": "python3"
  },
  "language_info": {
   "codemirror_mode": {
    "name": "ipython",
    "version": 3
   },
   "file_extension": ".py",
   "mimetype": "text/x-python",
   "name": "python",
   "nbconvert_exporter": "python",
   "pygments_lexer": "ipython3",
   "version": "3.8.8"
  }
 },
 "nbformat": 4,
 "nbformat_minor": 5
}

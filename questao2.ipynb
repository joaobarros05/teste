{
 "cells": [
  {
   "cell_type": "markdown",
   "id": "52cc1952-3310-4a21-af80-5052907fafef",
   "metadata": {},
   "source": [
    "#### Import de bibliotecas principais"
   ]
  },
  {
   "cell_type": "code",
   "execution_count": 13,
   "id": "7acd5d70-b4a5-49d0-8e16-34272609be19",
   "metadata": {},
   "outputs": [],
   "source": [
    "import torch\n",
    "import torch.nn as nn\n",
    "import numpy as np\n",
    "import os\n",
    "import numpy as np\n",
    "import torch\n",
    "import pickle\n",
    "from PIL import Image\n",
    "import glob\n",
    "#from vision.references.detection import transforms as T   # torchvision.transforms as T\n",
    "from torchvision import datasets, transforms\n",
    "from PIL import ImageFilter\n",
    "from sklearn.metrics import accuracy_score, confusion_matrix, roc_curve\n",
    "from sklearn.svm import LinearSVC\n",
    "import seaborn as sns\n",
    "import matplotlib.pyplot as plt"
   ]
  },
  {
   "cell_type": "markdown",
   "id": "7c987b63-eadb-45fb-88e6-7bad9c0884da",
   "metadata": {},
   "source": [
    "## Load de dataset"
   ]
  },
  {
   "cell_type": "code",
   "execution_count": 2,
   "id": "97fd55ad-0d08-44a5-8561-d217775ba4c9",
   "metadata": {},
   "outputs": [],
   "source": [
    "# Transformação para tensor, resize\n",
    "# crop e normalização das imagens\n",
    "def get_transform():\n",
    "    transform = transforms.Compose([\n",
    "    transforms.Resize(256),\n",
    "    transforms.CenterCrop(224),\n",
    "    transforms.ToTensor(),\n",
    "    transforms.Normalize(mean=[0.485, 0.456, 0.406], std=[0.229, 0.224, 0.225]),\n",
    "    ])\n",
    "    return transform\n",
    "\n",
    "# Obtém o dataloader a partir de uma pasta\n",
    "# Para testar o método, inicialmente treinei com duas classes, apenas. \n",
    "# Infelizmente, não tive tempo de otimizar o método para\n",
    "# prosseguir com as demais classes\n",
    "dataset = datasets.ImageFolder(\n",
    "    root='dataset/temp/',\n",
    "    transform=get_transform()\n",
    ")"
   ]
  },
  {
   "cell_type": "code",
   "execution_count": 3,
   "id": "4b9173c9-6a1d-4613-84fc-7c2f6676cfb6",
   "metadata": {},
   "outputs": [],
   "source": [
    "from torch.utils.data import Dataset, DataLoader\n",
    "#from vision.references.detection import utils # as T\n",
    "from sklearn.model_selection import train_test_split\n",
    "from torch.utils.data import Subset\n",
    "\n",
    "\n",
    "def train_val_dataset(dataset, val_split=0.3):\n",
    "    train_idx, val_idx = train_test_split(list(range(len(dataset))), test_size=val_split)\n",
    "    datasets = {}\n",
    "    datasets['train'] = Subset(dataset, train_idx)\n",
    "    datasets['val'] = Subset(dataset, val_idx)\n",
    "    return datasets\n",
    "\n",
    "#dataset = SpeedDataset(addrs_flow, labels, get_transform())\n",
    "#dataset = SpeedDataset(addrs_rgb, addrs_flow, addrs_depth, labels, ids, get_transform())\n",
    "datasets = train_val_dataset(dataset)\n",
    "\n",
    "data_loader_train = DataLoader(datasets['train'], batch_size=1, shuffle=True, num_workers=4, pin_memory=True)\n",
    "data_loader_test = DataLoader(datasets['val'], batch_size=1, shuffle=True, num_workers=4, pin_memory=True) #"
   ]
  },
  {
   "cell_type": "markdown",
   "id": "83de4ac9-619e-4a9b-bc96-c170e76ef61d",
   "metadata": {},
   "source": [
    "### Montagem do modelo"
   ]
  },
  {
   "cell_type": "code",
   "execution_count": 4,
   "id": "2c4d92c8-bc1f-4d37-b24f-b3ae13f458be",
   "metadata": {
    "tags": []
   },
   "outputs": [
    {
     "name": "stderr",
     "output_type": "stream",
     "text": [
      "Using cache found in /root/.cache/torch/hub/pytorch_vision_v0.10.0\n"
     ]
    },
    {
     "data": {
      "text/plain": [
       "Sequential(\n",
       "  (0): Conv2d(3, 64, kernel_size=(3, 3), stride=(1, 1), padding=(1, 1))\n",
       "  (1): ReLU(inplace=True)\n",
       "  (2): Conv2d(64, 64, kernel_size=(3, 3), stride=(1, 1), padding=(1, 1))\n",
       "  (3): ReLU(inplace=True)\n",
       "  (4): MaxPool2d(kernel_size=2, stride=2, padding=0, dilation=1, ceil_mode=False)\n",
       "  (5): Conv2d(64, 128, kernel_size=(3, 3), stride=(1, 1), padding=(1, 1))\n",
       "  (6): ReLU(inplace=True)\n",
       "  (7): Conv2d(128, 128, kernel_size=(3, 3), stride=(1, 1), padding=(1, 1))\n",
       "  (8): ReLU(inplace=True)\n",
       "  (9): MaxPool2d(kernel_size=2, stride=2, padding=0, dilation=1, ceil_mode=False)\n",
       "  (10): Conv2d(128, 256, kernel_size=(3, 3), stride=(1, 1), padding=(1, 1))\n",
       "  (11): ReLU(inplace=True)\n",
       "  (12): Conv2d(256, 256, kernel_size=(3, 3), stride=(1, 1), padding=(1, 1))\n",
       "  (13): ReLU(inplace=True)\n",
       "  (14): Conv2d(256, 256, kernel_size=(3, 3), stride=(1, 1), padding=(1, 1))\n",
       "  (15): ReLU(inplace=True)\n",
       "  (16): MaxPool2d(kernel_size=2, stride=2, padding=0, dilation=1, ceil_mode=False)\n",
       "  (17): Conv2d(256, 512, kernel_size=(3, 3), stride=(1, 1), padding=(1, 1))\n",
       "  (18): ReLU(inplace=True)\n",
       "  (19): Conv2d(512, 512, kernel_size=(3, 3), stride=(1, 1), padding=(1, 1))\n",
       "  (20): ReLU(inplace=True)\n",
       "  (21): Conv2d(512, 512, kernel_size=(3, 3), stride=(1, 1), padding=(1, 1))\n",
       "  (22): ReLU(inplace=True)\n",
       "  (23): MaxPool2d(kernel_size=2, stride=2, padding=0, dilation=1, ceil_mode=False)\n",
       "  (24): Conv2d(512, 512, kernel_size=(3, 3), stride=(1, 1), padding=(1, 1))\n",
       "  (25): ReLU(inplace=True)\n",
       "  (26): Conv2d(512, 512, kernel_size=(3, 3), stride=(1, 1), padding=(1, 1))\n",
       "  (27): ReLU(inplace=True)\n",
       "  (28): Conv2d(512, 512, kernel_size=(3, 3), stride=(1, 1), padding=(1, 1))\n",
       "  (29): ReLU(inplace=True)\n",
       "  (30): MaxPool2d(kernel_size=2, stride=2, padding=0, dilation=1, ceil_mode=False)\n",
       ")"
      ]
     },
     "execution_count": 4,
     "metadata": {},
     "output_type": "execute_result"
    }
   ],
   "source": [
    "# Obtém VGG 16 pretreinada do ImageNet\n",
    "model = torch.hub.load('pytorch/vision:v0.10.0', 'vgg16', pretrained=True)\n",
    "\n",
    "# Obtém somente a camada de encoding\n",
    "new_model = model.features \n",
    "new_model"
   ]
  },
  {
   "cell_type": "code",
   "execution_count": 86,
   "id": "30da3ccf-7e63-42b5-9db5-d69176f2a40d",
   "metadata": {
    "jupyter": {
     "source_hidden": true
    },
    "tags": []
   },
   "outputs": [],
   "source": [
    "y_test = []\n",
    "\n",
    "for i, (flow_stack, speed_vector) in enumerate(data_loader_val):\n",
    "    y_test.append(speed_vector)"
   ]
  },
  {
   "cell_type": "markdown",
   "id": "dc218172-72b1-4a73-8820-1fa106ad2b86",
   "metadata": {},
   "source": [
    "# Extração de features usando VGG 16"
   ]
  },
  {
   "cell_type": "code",
   "execution_count": 5,
   "id": "510ba7b8-ac19-4b5e-9f86-6a6425169b11",
   "metadata": {},
   "outputs": [],
   "source": [
    "device = torch.device('cuda')\n",
    "model = new_model.to(device)\n",
    "\n",
    "# Para cada imagem do data loader,\n",
    "# obtém as features correspondentes\n",
    "_data=[]\n",
    "_label=[]\n",
    "for i, (data, label) in enumerate(data_loader_train):\n",
    "    data, label = data.to(device), label.to(device)\n",
    "    pred_speed = model(data)\n",
    "    _data.append(list(pred_speed.reshape([1, 25088]).cpu().detach().numpy()[0]))\n",
    "    _label.append(label.cpu().detach().numpy()[0])"
   ]
  },
  {
   "cell_type": "code",
   "execution_count": 7,
   "id": "6a02c75b-d731-490f-b9be-d97b4e14f19d",
   "metadata": {},
   "outputs": [],
   "source": [
    "device = torch.device('cuda')\n",
    "model = new_model.to(device)\n",
    "\n",
    "# Para cada imagem do data loader,\n",
    "# obtém as features correspondentes\n",
    "_data_test=[]\n",
    "_label_test=[]\n",
    "for i, (data, label) in enumerate(data_loader_test):\n",
    "    data, label = data.to(device), label.to(device)\n",
    "    pred_speed = model(data)\n",
    "    _data_test.append(list(pred_speed.reshape([1, 25088]).cpu().detach().numpy()[0]))\n",
    "    _label_test.append(label.cpu().detach().numpy()[0])"
   ]
  },
  {
   "cell_type": "markdown",
   "id": "9a7f26e5-2026-468b-aacb-7f4be6df8e3d",
   "metadata": {
    "tags": []
   },
   "source": [
    "# Treinamento SVM"
   ]
  },
  {
   "cell_type": "code",
   "execution_count": 8,
   "id": "e9629fd5-985d-42d1-8c9d-8eac969423e8",
   "metadata": {},
   "outputs": [
    {
     "data": {
      "text/plain": [
       "LinearSVC(C=1.0, class_weight=None, dual=True, fit_intercept=True,\n",
       "          intercept_scaling=1, loss='squared_hinge', max_iter=10000,\n",
       "          multi_class='ovr', penalty='l2', random_state=None, tol=0.0001,\n",
       "          verbose=0)"
      ]
     },
     "execution_count": 8,
     "metadata": {},
     "output_type": "execute_result"
    }
   ],
   "source": [
    "clf=LinearSVC(max_iter=10000)\n",
    "clf.fit(_data,_label)"
   ]
  },
  {
   "cell_type": "code",
   "execution_count": 9,
   "id": "848345e5-efd8-4567-80f9-d621733259e7",
   "metadata": {},
   "outputs": [],
   "source": [
    "predictions_svm = clf.predict(_data_test)"
   ]
  },
  {
   "cell_type": "markdown",
   "id": "3ca16f0c-6555-4795-9ba3-c5568af888b3",
   "metadata": {},
   "source": [
    "### Precisao"
   ]
  },
  {
   "cell_type": "code",
   "execution_count": 10,
   "id": "1603012f-a330-4ed5-85eb-904e12330e1d",
   "metadata": {},
   "outputs": [
    {
     "data": {
      "text/plain": [
       "0.9733905579399141"
      ]
     },
     "execution_count": 10,
     "metadata": {},
     "output_type": "execute_result"
    }
   ],
   "source": [
    "acc_svm = accuracy_score(_label_test, predictions_svm)\n",
    "acc_svm"
   ]
  },
  {
   "cell_type": "markdown",
   "id": "1f1936cc-3022-4afe-a361-cb3c72f0e187",
   "metadata": {},
   "source": [
    "### Matriz de confusão"
   ]
  },
  {
   "cell_type": "code",
   "execution_count": 14,
   "id": "264ad1ee-1bca-4e0b-bc6c-2e458a758764",
   "metadata": {},
   "outputs": [
    {
     "data": {
      "image/png": "[encoded data removed]",
      "text/plain": [
       "<Figure size 648x648 with 2 Axes>"
      ]
     },
     "metadata": {
      "needs_background": "light"
     },
     "output_type": "display_data"
    }
   ],
   "source": [
    "cm = confusion_matrix(_label_test, predictions_svm)\n",
    "\n",
    "plt.figure(figsize=(9,9))\n",
    "sns.heatmap(cm, annot=True, fmt=\".3f\", linewidths=.5, square = True, cmap = 'Blues_r');\n",
    "plt.ylabel('Actual label');\n",
    "plt.xlabel('Predicted label');\n",
    "all_sample_title = 'Accuracy Score: {0}'.format(acc_svm)\n",
    "plt.title(all_sample_title, size = 15);"
   ]
  },
  {
   "cell_type": "markdown",
   "id": "b813a1a0-f342-4631-86c1-a41bffb972a0",
   "metadata": {},
   "source": [
    "#### F1 Score"
   ]
  },
  {
   "cell_type": "code",
   "execution_count": 16,
   "id": "65761524-6f6b-4593-b4cd-371a94d95d9a",
   "metadata": {},
   "outputs": [
    {
     "data": {
      "text/plain": [
       "0.9728254531034966"
      ]
     },
     "execution_count": 16,
     "metadata": {},
     "output_type": "execute_result"
    }
   ],
   "source": [
    "from sklearn.metrics import f1_score\n",
    "\n",
    "score = f1_score(_label_test, predictions_svm, average=\"macro\")\n",
    "score"
   ]
  },
  {
   "cell_type": "markdown",
   "id": "e7594f07-4d16-435e-a649-face4ca62f21",
   "metadata": {},
   "source": [
    "### Precision Recall Curve"
   ]
  },
  {
   "cell_type": "code",
   "execution_count": null,
   "id": "37d6821c-937c-4e74-8a93-896cafe08738",
   "metadata": {},
   "outputs": [],
   "source": [
    "from sklearn.metrics import precision_recall_curve, roc_curve\n",
    "\n",
    "# precision recall curve\n",
    "precision = dict()\n",
    "recall = dict()\n",
    "for i in range(n_classes):\n",
    "    precision[i], recall[i], _ = precision_recall_curve(y_test[:, i],\n",
    "                                                        y_score[:, i])\n",
    "    plt.plot(recall[i], precision[i], lw=2, label='class {}'.format(i))\n",
    "    \n",
    "plt.xlabel(\"recall\")\n",
    "plt.ylabel(\"precision\")\n",
    "plt.legend(loc=\"best\")\n",
    "plt.title(\"precision vs. recall curve\")\n",
    "plt.show()"
   ]
  },
  {
   "cell_type": "markdown",
   "id": "a78db798-6372-4c0a-9ce0-b1623f7183f8",
   "metadata": {
    "tags": []
   },
   "source": [
    "# Treinamento KNN"
   ]
  },
  {
   "cell_type": "code",
   "execution_count": 17,
   "id": "7c434f9f-4d13-4085-ad49-98d340557829",
   "metadata": {},
   "outputs": [
    {
     "data": {
      "text/plain": [
       "KNeighborsClassifier(algorithm='auto', leaf_size=30, metric='minkowski',\n",
       "                     metric_params=None, n_jobs=None, n_neighbors=5, p=2,\n",
       "                     weights='uniform')"
      ]
     },
     "execution_count": 17,
     "metadata": {},
     "output_type": "execute_result"
    }
   ],
   "source": [
    "from sklearn.neighbors import KNeighborsClassifier\n",
    "\n",
    "model = KNeighborsClassifier()\n",
    "model.fit(_data, np.array(_label))"
   ]
  },
  {
   "cell_type": "code",
   "execution_count": 18,
   "id": "4599a2f4-fccd-4626-9da7-011239a661b9",
   "metadata": {},
   "outputs": [],
   "source": [
    "predictions_knn = model.predict(_data_test)"
   ]
  },
  {
   "cell_type": "markdown",
   "id": "4c5b3022-0839-4d98-8651-29bfdac4162a",
   "metadata": {},
   "source": [
    "### Precisao"
   ]
  },
  {
   "cell_type": "code",
   "execution_count": 19,
   "id": "dd8cbfcd-5698-441a-8b33-7e58d0f0d96e",
   "metadata": {},
   "outputs": [
    {
     "data": {
      "text/plain": [
       "0.8626609442060086"
      ]
     },
     "execution_count": 19,
     "metadata": {},
     "output_type": "execute_result"
    }
   ],
   "source": [
    "acc_knn = accuracy_score(_label_test, predictions_knn)\n",
    "acc_knn"
   ]
  },
  {
   "cell_type": "markdown",
   "id": "5262a41b-b42e-4bfd-b305-3cdccc07966e",
   "metadata": {},
   "source": [
    "### Matriz de confusão"
   ]
  },
  {
   "cell_type": "code",
   "execution_count": 21,
   "id": "353ffe14-d07a-4915-9b81-3cc26b51a4d6",
   "metadata": {},
   "outputs": [
    {
     "data": {
      "image/png": "[encoded data removed]",
      "text/plain": [
       "<Figure size 648x648 with 2 Axes>"
      ]
     },
     "metadata": {
      "needs_background": "light"
     },
     "output_type": "display_data"
    }
   ],
   "source": [
    "cm = confusion_matrix(_label_test, predictions_knn)\n",
    "\n",
    "import seaborn as sns\n",
    "\n",
    "plt.figure(figsize=(9,9))\n",
    "sns.heatmap(cm, annot=True, fmt=\".3f\", linewidths=.5, square = True, cmap = 'Blues_r');\n",
    "plt.ylabel('Actual label');\n",
    "plt.xlabel('Predicted label');\n",
    "all_sample_title = 'Accuracy Score: {0}'.format(acc_svm)\n",
    "plt.title(all_sample_title, size = 15);"
   ]
  },
  {
   "cell_type": "markdown",
   "id": "3adbd65d-ff04-4650-a189-6dced99a4dbe",
   "metadata": {},
   "source": [
    "#### F1 Score"
   ]
  },
  {
   "cell_type": "code",
   "execution_count": 23,
   "id": "38a79643-b9e7-45ac-a040-da9092fcb029",
   "metadata": {},
   "outputs": [
    {
     "data": {
      "text/plain": [
       "0.8625636306795728"
      ]
     },
     "execution_count": 23,
     "metadata": {},
     "output_type": "execute_result"
    }
   ],
   "source": [
    "from sklearn.metrics import f1_score\n",
    "\n",
    "score = f1_score(_label_test, predictions_knn, average=\"macro\")\n",
    "score"
   ]
  },
  {
   "cell_type": "markdown",
   "id": "87af8e12-24d1-4b41-ac33-6249fd6f4685",
   "metadata": {},
   "source": [
    "### Precision Recall Curve"
   ]
  },
  {
   "cell_type": "code",
   "execution_count": null,
   "id": "fab181a7-63b7-4abc-97a8-a9b8d388a0cc",
   "metadata": {},
   "outputs": [],
   "source": [
    "from sklearn.metrics import precision_recall_curve, roc_curve\n",
    "\n",
    "# precision recall curve\n",
    "precision = dict()\n",
    "recall = dict()\n",
    "for i in range(n_classes):\n",
    "    precision[i], recall[i], _ = precision_recall_curve(y_test[:, i],\n",
    "                                                        y_score[:, i])\n",
    "    plt.plot(recall[i], precision[i], lw=2, label='class {}'.format(i))\n",
    "    \n",
    "plt.xlabel(\"recall\")\n",
    "plt.ylabel(\"precision\")\n",
    "plt.legend(loc=\"best\")\n",
    "plt.title(\"precision vs. recall curve\")\n",
    "plt.show()"
   ]
  },
  {
   "cell_type": "markdown",
   "id": "84f37a72-ea84-4a77-bf8a-b68f89dc1248",
   "metadata": {
    "tags": []
   },
   "source": [
    "# Treinamento Logistic Regression"
   ]
  },
  {
   "cell_type": "code",
   "execution_count": null,
   "id": "7fb22abc-9f78-4fa1-a0b8-0da97c7eabeb",
   "metadata": {},
   "outputs": [],
   "source": [
    "from sklearn.linear_model import LogisticRegression\n",
    "\n",
    "# all parameters not specified are set to their defaults\n",
    "logisticRegr = LogisticRegression()\n",
    "logisticRegr.fit(_data, np.array(_label))"
   ]
  },
  {
   "cell_type": "code",
   "execution_count": null,
   "id": "3a75e6e9-3a82-426b-99e7-43871497396c",
   "metadata": {},
   "outputs": [],
   "source": [
    "predictions_lr = model.predict(_data_test)"
   ]
  },
  {
   "cell_type": "markdown",
   "id": "9a41c938-e5ca-4309-9f5e-ab6acbf9394f",
   "metadata": {},
   "source": [
    "### Precisao"
   ]
  },
  {
   "cell_type": "code",
   "execution_count": 87,
   "id": "2b0ab294-0cb4-48f0-884a-64e9659406c9",
   "metadata": {},
   "outputs": [
    {
     "data": {
      "text/plain": [
       "0.9841836734693877"
      ]
     },
     "execution_count": 87,
     "metadata": {},
     "output_type": "execute_result"
    }
   ],
   "source": [
    "acc = accuracy_score(new_y_test, predictions_lr)\n",
    "acc"
   ]
  },
  {
   "cell_type": "markdown",
   "id": "afff9893-c9f3-4552-8d96-33b236c1a2ae",
   "metadata": {},
   "source": [
    "### Matriz de confusão"
   ]
  },
  {
   "cell_type": "code",
   "execution_count": null,
   "id": "dca81b2b-b1b8-4494-87c8-c113677ca0b7",
   "metadata": {},
   "outputs": [],
   "source": [
    "cm = confusion_matrix(y_test, predictions_svm)\n",
    "\n",
    "import seaborn as sns\n",
    "\n",
    "plt.figure(figsize=(9,9))\n",
    "sns.heatmap(cm, annot=True, fmt=\".3f\", linewidths=.5, square = True, cmap = 'Blues_r');\n",
    "plt.ylabel('Actual label');\n",
    "plt.xlabel('Predicted label');\n",
    "all_sample_title = 'Accuracy Score: {0}'.format(acc_svm)\n",
    "plt.title(all_sample_title, size = 15);"
   ]
  },
  {
   "cell_type": "markdown",
   "id": "ae6d6c26-b6ea-4541-a0be-4d93f238fb0e",
   "metadata": {},
   "source": [
    "#### F1 Score"
   ]
  },
  {
   "cell_type": "code",
   "execution_count": null,
   "id": "e5165bd5-92c3-40a7-85f1-644daafb5248",
   "metadata": {},
   "outputs": [],
   "source": [
    "from sklearn.metrics import f1_score\n",
    "\n",
    "score = f1_score(true_labels, pred_labels, average=\"macro\")"
   ]
  },
  {
   "cell_type": "markdown",
   "id": "deb0badb-04fb-4241-95b4-37397c88dd17",
   "metadata": {},
   "source": [
    "### Precision Recall Curve"
   ]
  },
  {
   "cell_type": "code",
   "execution_count": null,
   "id": "fc27c7c9-a532-4bf6-99fb-eff7523a2fc2",
   "metadata": {},
   "outputs": [],
   "source": [
    "from sklearn.metrics import precision_recall_curve, roc_curve\n",
    "\n",
    "# precision recall curve\n",
    "precision = dict()\n",
    "recall = dict()\n",
    "for i in range(n_classes):\n",
    "    precision[i], recall[i], _ = precision_recall_curve(y_test[:, i],\n",
    "                                                        y_score[:, i])\n",
    "    plt.plot(recall[i], precision[i], lw=2, label='class {}'.format(i))\n",
    "    \n",
    "plt.xlabel(\"recall\")\n",
    "plt.ylabel(\"precision\")\n",
    "plt.legend(loc=\"best\")\n",
    "plt.title(\"precision vs. recall curve\")\n",
    "plt.show()"
   ]
  }
 ],
 "metadata": {
  "kernelspec": {
   "display_name": "Python 3 (ipykernel)",
   "language": "python",
   "name": "python3"
  },
  "language_info": {
   "codemirror_mode": {
    "name": "ipython",
    "version": 3
   },
   "file_extension": ".py",
   "mimetype": "text/x-python",
   "name": "python",
   "nbconvert_exporter": "python",
   "pygments_lexer": "ipython3",
   "version": "3.8.8"
  }
 },
 "nbformat": 4,
 "nbformat_minor": 5
}

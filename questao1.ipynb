{
 "cells": [
  {
   "cell_type": "markdown",
   "id": "19c8728f-4735-43b0-a339-3ea682a0a211",
   "metadata": {},
   "source": [
    "#### Construir um Bag of Visual Words compreende três passos:\n",
    "- 1. Extração de features: Extração das features das imagens usando ORB;\n",
    "- 2. Construção de dicionário: É utilizado o algoritmo de agrupamento K-means. Os centroides obtidos são as palavras chaves;\n",
    "- 3. Quantização de vetor: É criado um histograma para representar a frequência de cada palavra visual."
   ]
  },
  {
   "cell_type": "markdown",
   "id": "2d42f4ba-c895-4917-8dbf-af3dae30ca30",
   "metadata": {},
   "source": [
    "### Import de bibliotecas"
   ]
  },
  {
   "cell_type": "code",
   "execution_count": 1,
   "id": "991f9686-64ba-4f30-ad42-a87f21359169",
   "metadata": {},
   "outputs": [],
   "source": [
    "import numpy as np\n",
    "import cv2\n",
    "import os\n",
    "from scipy import ndimage\n",
    "from scipy.spatial import distance\n",
    "from sklearn.cluster import KMeans\n",
    "from scipy.cluster.vq import kmeans,vq # Esse módulo é utilizado para quantização vetorial para usar com o K-Means\n",
    "from sklearn.model_selection import train_test_split\n",
    "from sklearn.preprocessing import StandardScaler\n",
    "from skimage import  data, color, feature\n",
    "import pickle\n",
    "import matplotlib.pyplot as plt\n",
    "from sklearn.svm import LinearSVC\n",
    "from sklearn.metrics import accuracy_score, confusion_matrix, roc_curve\n",
    "import pandas as pd #\n",
    "import random"
   ]
  },
  {
   "cell_type": "markdown",
   "id": "3e94c840-0514-45c1-9e33-27759633a055",
   "metadata": {},
   "source": [
    "## Carregamento de dataset e extração de features"
   ]
  },
  {
   "cell_type": "code",
   "execution_count": 2,
   "id": "e92eaa94-b0e3-45ff-aa1b-6a9f86dd2aa5",
   "metadata": {},
   "outputs": [],
   "source": [
    "'''\n",
    "Função para salvar estrutura de dados\n",
    "em extensão .pckl para posterior uso\n",
    "'''\n",
    "def save_data(data, save_path):\n",
    "    with open(save_path, 'wb') as f:\n",
    "        pickle.dump(data, f)\n",
    "\n",
    "'''\n",
    "Função para carregar estrutura de dados\n",
    "salva em extensão .pckl\n",
    "'''\n",
    "def load_data(data_path):\n",
    "    with open(data_path, 'rb') as f:\n",
    "        return pickle.load(f)\n",
    "\n",
    "'''\n",
    "Função para extração de features\n",
    "usando ORB\n",
    "'''\n",
    "def get_orb_features(img):\n",
    "    orb = cv2.ORB_create()\n",
    "    kp = orb.detect(img,None)\n",
    "    kp, des = orb.compute(img, kp)\n",
    "    return des\n",
    "\n",
    "\n",
    "def get_sift_features(img):\n",
    "    orb = cv2.ORB_create()\n",
    "    kp = orb.detect(img,None)\n",
    "    kp, des = orb.compute(img, kp)\n",
    "    return des\n",
    "    \n",
    "'''\n",
    "Função para carregamento de dataset\n",
    "Recebe o diretório das imagens e,\n",
    "opcionalmente, faz o resize delas.\n",
    "Optou-se pelo resize por conta dos\n",
    "recursos computacionais.\n",
    "'''\n",
    "def load_dataset(folder_path, save = True, \n",
    "                 save_path = './dataset/dataset.pkl',\n",
    "                resize = True, resolution = (150,150)):\n",
    "    dataset = []\n",
    "    for filename in os.listdir(folder_path):\n",
    "        path = folder_path + '/' + filename\n",
    "        print('== >', filename)\n",
    "        for img_path in os.listdir(path):\n",
    "            # Carrega imagem em escala de cinza para posterior processamento\n",
    "            img = cv2.imread(path + '/' + img_path, 0)\n",
    "            if img is not None:\n",
    "                if resize:\n",
    "                    img = cv2.resize(img, resolution)\n",
    "                # Obtém os descritores a partir do orb\n",
    "                orb_descriptor = get_orb_features(img)\n",
    "                #hog_descriptor = get_hog(img)\n",
    "                \n",
    "                if orb_descriptor is not None:\n",
    "                    if(\"butterfly\" in filename):\n",
    "                        class_index = 0 #ok **50%\n",
    "                    elif(\"cat\" in filename):\n",
    "                        class_index = 1\n",
    "                    elif(\"chicken\" in filename):\n",
    "                        class_index = 2 # ok\n",
    "                    elif(\"cow\" in filename):\n",
    "                        class_index = 3 #ok\n",
    "                    elif(\"dog\" in filename):\n",
    "                        class_index = 4 # ok\n",
    "                    elif(\"elephant\" in filename):\n",
    "                        class_index = 5 # ok\n",
    "                    elif(\"horse\" in filename):\n",
    "                        class_index = 6 # ok\n",
    "                    elif(\"ragno\" in filename):\n",
    "                        class_index = 7 #  ok\n",
    "                    elif(\"sheep\" in filename):\n",
    "                        class_index = 8 # ok\n",
    "                    elif(\"squirrel\" in filename):\n",
    "                        class_index = 9 #\n",
    "                    dataset.append((orb_descriptor, class_index))\n",
    "    if save:\n",
    "        save_data(dataset, save_path)\n",
    "    return dataset"
   ]
  },
  {
   "cell_type": "code",
   "execution_count": 3,
   "id": "ed182f73-c177-48e6-a09c-7fbfd2335092",
   "metadata": {},
   "outputs": [],
   "source": [
    "'''\n",
    "Função utilizada para separar os dados de treino e teste\n",
    "80% são usados para treino, enquanto que os 30% para teste\n",
    "'''\n",
    "def split_dataset(dataset, test_size=0.3):\n",
    "    train_idx, val_idx = train_test_split(list(range(len(dataset))), test_size=test_size)\n",
    "    train_data = [dataset[i] for i in train_idx]\n",
    "    test_data = [dataset[i] for i in val_idx]\n",
    "    \n",
    "    data_train, y_train = zip(*train_data)\n",
    "    data_test, y_test = zip(*test_data)\n",
    "    \n",
    "    return data_train, y_train, data_test, y_test\n",
    "\n",
    "'''\n",
    "Nessa função, ocorre a construção do vocabulário de\n",
    "palavras visuais. Para isso, é utilizado o algoritmo \n",
    "k-means, que é responsável por agrupar o vetor de \n",
    "features obtidos a partir do ORB. Os centróides desse \n",
    "agrupamento são usados como dicionário de palavras \n",
    "visuais. Para cada vetor extraído, é calculado o seu \n",
    "vizinho mais próximo no dicionário criado com o K-means. \n",
    "A partir disso, é criado um histograma de comprimento k \n",
    "(número de clusters de K-means), que representa a \n",
    "frequência de cada palavra visual.\n",
    "'''\n",
    "\n",
    "def get_bovw(data, k = 150, save=True, save_path = './dataset/extracted_feature.pkl'):\n",
    "    #Empilha o array de vetores para vertical \n",
    "    descriptors=data[0]\n",
    "    for descriptor in data[1:]:\n",
    "        descriptors=np.vstack((descriptors,descriptor))\n",
    "     \n",
    "    \n",
    "    descriptors_float=descriptors.astype(float)\n",
    "    \n",
    "    # Executa k-means em um conjunto de vetores para\n",
    "    # obtenção de k clusters.\n",
    "    # Recebe o array de descritores de cada imagem, o \n",
    "    # valor de k clusters e **\n",
    "    \n",
    "    # Retorna os centróides calculados e o valor médio\n",
    "    # da distância Euclidiana entre as observações e o\n",
    "    # centroid\n",
    "    centroids,centroid_distance=kmeans(descriptors_float,k)\n",
    "    \n",
    "    # Constroi o histograma de features\n",
    "    # correspondente a cada imagem\n",
    "    im_features=np.zeros((len(data),k),\"float32\")\n",
    "    for i in range(len(data)):\n",
    "        # Mapeia as observações para os centróides\n",
    "        # apropriados que são calculados no método\n",
    "        # kmeans. Recebe como parâmetros o descritor\n",
    "        # e o dicionário de palavras visuais\n",
    "        \n",
    "        # Retorna o índice no dicionário que corresponde\n",
    "        # o descritor e a distânia entre o descritor e \n",
    "        # seu centróide\n",
    "        words,distance=vq(data[i],centroids)\n",
    "        for w in words:\n",
    "            im_features[i][w]+=1\n",
    "            \n",
    "    # Normaliza as features obtidas\n",
    "    stdslr=StandardScaler().fit(im_features)\n",
    "    im_features=stdslr.transform(im_features)\n",
    "            \n",
    "    if save:\n",
    "        save_data(im_features, save_path)\n",
    "    return im_features"
   ]
  },
  {
   "cell_type": "code",
   "execution_count": 4,
   "id": "30080e11-ed54-4013-b8ab-c5ddf3d3ab9a",
   "metadata": {
    "jupyter": {
     "source_hidden": true
    },
    "tags": []
   },
   "outputs": [],
   "source": [
    "data_train = load_data('./dataset/data_train.pkl');\n",
    "y_train = load_data('./dataset/y_train.pkl');\n",
    "data_test = load_data('./dataset/data_test.pkl');\n",
    "y_test = load_data('./dataset/y_test.pkl');"
   ]
  },
  {
   "cell_type": "code",
   "execution_count": 5,
   "id": "a4e82f8c-0a79-4712-8478-5f0e22e65dc1",
   "metadata": {
    "tags": []
   },
   "outputs": [
    {
     "name": "stdout",
     "output_type": "stream",
     "text": [
      "== > dog\n",
      "== > cat\n"
     ]
    }
   ],
   "source": [
    "#Para testar o método, inicialmente treinei com duas classes, apenas. Infelizmente, não tive tempo de prosseguir com as demais classes\n",
    "\n",
    "# Carregamento de dataset\n",
    "dataset = load_dataset('./dataset/temp', save = False, resize = False)\n",
    "#dataset = load_data('./dataset/dataset.pkl')\n",
    "# Divisão em treino e teste\n",
    "data_train, y_train, data_test, y_test = split_dataset(dataset)"
   ]
  },
  {
   "cell_type": "code",
   "execution_count": 9,
   "id": "355cf6d5-5798-4a0c-aed0-c5df6c0d2c56",
   "metadata": {},
   "outputs": [
    {
     "data": {
      "text/plain": [
       "(2714, 60)"
      ]
     },
     "execution_count": 9,
     "metadata": {},
     "output_type": "execute_result"
    }
   ],
   "source": [
    "data_train.shape"
   ]
  },
  {
   "cell_type": "code",
   "execution_count": 6,
   "id": "891570ae-f99b-49f3-999e-8b739ec6ed74",
   "metadata": {},
   "outputs": [],
   "source": [
    "data_train = get_bovw(data_train, k = 60, save_path = './dataset/data_train.pkl')\n",
    "data_test = get_bovw(data_test, k = 60, save_path = './dataset/data_test.pkl')"
   ]
  },
  {
   "cell_type": "code",
   "execution_count": 7,
   "id": "0e74488c-36e7-4946-b768-44267419c00f",
   "metadata": {},
   "outputs": [],
   "source": [
    "#salvar labels\n",
    "save_data(y_train, './dataset/y_train.pkl')\n",
    "save_data(y_test, './dataset/y_test.pkl')"
   ]
  },
  {
   "cell_type": "markdown",
   "id": "b9f94d6d-93b5-44e8-812c-b67249ef7ed8",
   "metadata": {
    "tags": []
   },
   "source": [
    "# Treinamento SVM"
   ]
  },
  {
   "cell_type": "code",
   "execution_count": 27,
   "id": "3c885d4b-5a87-4a48-810e-2149c393fbd5",
   "metadata": {},
   "outputs": [
    {
     "data": {
      "text/plain": [
       "LinearSVC(C=1.0, class_weight=None, dual=True, fit_intercept=True,\n",
       "          intercept_scaling=1, loss='squared_hinge', max_iter=80000,\n",
       "          multi_class='ovr', penalty='l2', random_state=None, tol=0.0001,\n",
       "          verbose=0)"
      ]
     },
     "execution_count": 27,
     "metadata": {},
     "output_type": "execute_result"
    }
   ],
   "source": [
    "clf=LinearSVC(max_iter=80000)\n",
    "clf.fit(data_train,y_train)"
   ]
  },
  {
   "cell_type": "code",
   "execution_count": 28,
   "id": "d842f638-d086-4ff2-88ca-69482daa30a8",
   "metadata": {},
   "outputs": [],
   "source": [
    "predictions_svm = clf.predict(data_test)"
   ]
  },
  {
   "cell_type": "markdown",
   "id": "be220117-2150-45b0-a97e-09f3001dd20d",
   "metadata": {},
   "source": [
    "### Precisao"
   ]
  },
  {
   "cell_type": "code",
   "execution_count": 29,
   "id": "aff77376-59b1-4ea9-aaa0-1f1f748f7750",
   "metadata": {},
   "outputs": [
    {
     "data": {
      "text/plain": [
       "0.5094501718213058"
      ]
     },
     "execution_count": 29,
     "metadata": {},
     "output_type": "execute_result"
    }
   ],
   "source": [
    "acc_svm = accuracy_score(y_test, predictions_svm)\n",
    "acc_svm"
   ]
  },
  {
   "cell_type": "markdown",
   "id": "31bb2064-13f9-436e-99b0-8949a7385b31",
   "metadata": {},
   "source": [
    "### Matriz de confusão"
   ]
  },
  {
   "cell_type": "code",
   "execution_count": 21,
   "id": "52d1442b-e4b1-4d5c-a5a0-1da22ba7b523",
   "metadata": {},
   "outputs": [
    {
     "data": {
      "image/png": "[encoded data removed]",
      "text/plain": [
       "<Figure size 648x648 with 2 Axes>"
      ]
     },
     "metadata": {
      "needs_background": "light"
     },
     "output_type": "display_data"
    }
   ],
   "source": [
    "import seaborn as sns\n",
    "\n",
    "cm = confusion_matrix(y_test, predictions_svm)\n",
    "\n",
    "plt.figure(figsize=(9,9))\n",
    "sns.heatmap(cm, annot=True, fmt=\".3f\", linewidths=.5, square = True, cmap = 'Blues_r');\n",
    "plt.ylabel('Actual label');\n",
    "plt.xlabel('Predicted label');\n",
    "all_sample_title = 'Accuracy Score: {0}'.format(acc_svm)\n",
    "plt.title(all_sample_title, size = 15);"
   ]
  },
  {
   "cell_type": "markdown",
   "id": "67e2e6a4-63fb-46dc-be75-78726ed3135c",
   "metadata": {},
   "source": [
    "#### F1 Score"
   ]
  },
  {
   "cell_type": "code",
   "execution_count": 23,
   "id": "e65d3145-c40a-4131-a02f-7f29bd4c2a22",
   "metadata": {},
   "outputs": [
    {
     "data": {
      "text/plain": [
       "0.48860596258591593"
      ]
     },
     "execution_count": 23,
     "metadata": {},
     "output_type": "execute_result"
    }
   ],
   "source": [
    "from sklearn.metrics import f1_score\n",
    "\n",
    "score = f1_score(y_test, predictions_svm, average=\"macro\")\n",
    "score"
   ]
  },
  {
   "cell_type": "markdown",
   "id": "6b32741b-de31-456e-93d0-d0814adaaccf",
   "metadata": {},
   "source": [
    "### Precision Recall Curve"
   ]
  },
  {
   "cell_type": "code",
   "execution_count": null,
   "id": "c470e839-3c79-4ba6-ac2b-9a4d13312ffc",
   "metadata": {},
   "outputs": [],
   "source": [
    "from sklearn.metrics import precision_recall_curve, roc_curve\n",
    "\n",
    "y_score = clf._predict_proba_lr(data_test)\n",
    "# precision recall curve\n",
    "precision = dict()\n",
    "recall = dict()\n",
    "for i in range(len(y_test)):\n",
    "    precision[i], recall[i], _ = precision_recall_curve(y_test[i],\n",
    "                                                        y_score[:, i])\n",
    "    plt.plot(recall[i], precision[i], lw=2, label='class {}'.format(i))\n",
    "    \n",
    "plt.xlabel(\"recall\")\n",
    "plt.ylabel(\"precision\")\n",
    "plt.legend(loc=\"best\")\n",
    "plt.title(\"precision vs. recall curve\")\n",
    "plt.show()"
   ]
  },
  {
   "cell_type": "markdown",
   "id": "39fd8819-1cd4-41d4-8ae5-5bf34235e88f",
   "metadata": {
    "tags": []
   },
   "source": [
    "# Treinamento KNN"
   ]
  },
  {
   "cell_type": "code",
   "execution_count": 14,
   "id": "e52823d5-ae1b-4082-b7a6-87a6c6e0c813",
   "metadata": {},
   "outputs": [
    {
     "data": {
      "text/plain": [
       "KNeighborsClassifier(algorithm='auto', leaf_size=30, metric='minkowski',\n",
       "                     metric_params=None, n_jobs=None, n_neighbors=5, p=2,\n",
       "                     weights='uniform')"
      ]
     },
     "execution_count": 14,
     "metadata": {},
     "output_type": "execute_result"
    }
   ],
   "source": [
    "from sklearn.neighbors import KNeighborsClassifier\n",
    "\n",
    "model = KNeighborsClassifier()\n",
    "model.fit(data_train, np.array(y_train))"
   ]
  },
  {
   "cell_type": "code",
   "execution_count": 15,
   "id": "68542cfc-ac7d-4262-a7b4-b2e60eb8442e",
   "metadata": {},
   "outputs": [],
   "source": [
    "predictions_knn = model.predict(data_test)"
   ]
  },
  {
   "cell_type": "markdown",
   "id": "47db1139-6514-439e-9900-abc7c71eb476",
   "metadata": {},
   "source": [
    "### Precisao"
   ]
  },
  {
   "cell_type": "code",
   "execution_count": 16,
   "id": "4992238d-e11d-4ba1-bb45-19b722cb5873",
   "metadata": {},
   "outputs": [
    {
     "data": {
      "text/plain": [
       "0.5481099656357389"
      ]
     },
     "execution_count": 16,
     "metadata": {},
     "output_type": "execute_result"
    }
   ],
   "source": [
    "acc_knn = accuracy_score(y_test, predictions_knn)\n",
    "acc_knn"
   ]
  },
  {
   "cell_type": "markdown",
   "id": "52953bb2-f7bd-41c6-9fc1-c1605383a7f3",
   "metadata": {},
   "source": [
    "### Matriz de confusão"
   ]
  },
  {
   "cell_type": "code",
   "execution_count": 18,
   "id": "f36d448b-898e-4eca-b958-2c18b4c51740",
   "metadata": {},
   "outputs": [
    {
     "data": {
      "image/png": "[encoded data removed]",
      "text/plain": [
       "<Figure size 648x648 with 2 Axes>"
      ]
     },
     "metadata": {
      "needs_background": "light"
     },
     "output_type": "display_data"
    }
   ],
   "source": [
    "cm = confusion_matrix(y_test, predictions_knn)\n",
    "\n",
    "import seaborn as sns\n",
    "\n",
    "plt.figure(figsize=(9,9))\n",
    "sns.heatmap(cm, annot=True, fmt=\".3f\", linewidths=.5, square = True, cmap = 'Blues_r');\n",
    "plt.ylabel('Actual label');\n",
    "plt.xlabel('Predicted label');\n",
    "all_sample_title = 'Accuracy Score: {0}'.format(acc_svm)\n",
    "plt.title(all_sample_title, size = 15);"
   ]
  },
  {
   "cell_type": "markdown",
   "id": "b5113c7e-bc08-477d-895e-05f887e88175",
   "metadata": {},
   "source": [
    "#### F1 Score"
   ]
  },
  {
   "cell_type": "code",
   "execution_count": 20,
   "id": "bb0aa396-fdec-4189-8376-acc10a499f33",
   "metadata": {},
   "outputs": [
    {
     "data": {
      "text/plain": [
       "0.5086147949110591"
      ]
     },
     "execution_count": 20,
     "metadata": {},
     "output_type": "execute_result"
    }
   ],
   "source": [
    "score = f1_score(y_test, predictions_knn, average=\"macro\")\n",
    "score"
   ]
  },
  {
   "cell_type": "markdown",
   "id": "3bf9ee54-b9cd-49ce-877e-14d7df116ca1",
   "metadata": {},
   "source": [
    "### Precision Recall Curve"
   ]
  },
  {
   "cell_type": "code",
   "execution_count": null,
   "id": "0cd344a4-d0cd-4c7e-85ff-8a5c21ced5c8",
   "metadata": {},
   "outputs": [],
   "source": [
    "from sklearn.metrics import precision_recall_curve, roc_curve\n",
    "\n",
    "# precision recall curve\n",
    "precision = dict()\n",
    "recall = dict()\n",
    "for i in range(n_classes):\n",
    "    precision[i], recall[i], _ = precision_recall_curve(y_test[:, i],\n",
    "                                                        y_score[:, i])\n",
    "    plt.plot(recall[i], precision[i], lw=2, label='class {}'.format(i))\n",
    "    \n",
    "plt.xlabel(\"recall\")\n",
    "plt.ylabel(\"precision\")\n",
    "plt.legend(loc=\"best\")\n",
    "plt.title(\"precision vs. recall curve\")\n",
    "plt.show()"
   ]
  },
  {
   "cell_type": "markdown",
   "id": "65909224-070d-4548-8907-9243af273cb4",
   "metadata": {
    "tags": []
   },
   "source": [
    "# Treinamento Logistic Regression"
   ]
  },
  {
   "cell_type": "code",
   "execution_count": 82,
   "id": "aafa78f2-4bc9-4ec8-bb00-494f3c2ce36e",
   "metadata": {},
   "outputs": [
    {
     "data": {
      "text/plain": [
       "LinearSVC(C=1.0, class_weight=None, dual=True, fit_intercept=True,\n",
       "          intercept_scaling=1, loss='squared_hinge', max_iter=10000,\n",
       "          multi_class='ovr', penalty='l2', random_state=None, tol=0.0001,\n",
       "          verbose=0)"
      ]
     },
     "execution_count": 82,
     "metadata": {},
     "output_type": "execute_result"
    }
   ],
   "source": [
    "from sklearn.linear_model import LogisticRegression\n",
    "\n",
    "# all parameters not specified are set to their defaults\n",
    "logisticRegr = LogisticRegression(max_iter=8000000)\n",
    "logisticRegr.fit(data_train_norm, np.array(new_y_train))"
   ]
  },
  {
   "cell_type": "code",
   "execution_count": 84,
   "id": "be861321-3871-4c1f-87de-9af83c77f229",
   "metadata": {},
   "outputs": [],
   "source": [
    "predictions_lr = model.predict(data_test)"
   ]
  },
  {
   "cell_type": "markdown",
   "id": "e8753163-7a0d-47e1-987a-05c91bf5a7ac",
   "metadata": {},
   "source": [
    "### Precisao"
   ]
  },
  {
   "cell_type": "code",
   "execution_count": 87,
   "id": "a71d24f8-c2d2-4ba6-b8b2-40ba22f16c48",
   "metadata": {},
   "outputs": [
    {
     "data": {
      "text/plain": [
       "0.9841836734693877"
      ]
     },
     "execution_count": 87,
     "metadata": {},
     "output_type": "execute_result"
    }
   ],
   "source": [
    "acc = accuracy_score(new_y_test, predictions_lr)\n",
    "acc"
   ]
  },
  {
   "cell_type": "markdown",
   "id": "0f3f4314-6f75-468f-b896-806d8163e26c",
   "metadata": {},
   "source": [
    "### Matriz de confusão"
   ]
  },
  {
   "cell_type": "code",
   "execution_count": null,
   "id": "5b8ce33e-5648-4323-9883-af45a5c17a69",
   "metadata": {},
   "outputs": [],
   "source": [
    "cm = confusion_matrix(y_test, predictions_svm)\n",
    "\n",
    "import seaborn as sns\n",
    "\n",
    "plt.figure(figsize=(9,9))\n",
    "sns.heatmap(cm, annot=True, fmt=\".3f\", linewidths=.5, square = True, cmap = 'Blues_r');\n",
    "plt.ylabel('Actual label');\n",
    "plt.xlabel('Predicted label');\n",
    "all_sample_title = 'Accuracy Score: {0}'.format(acc_svm)\n",
    "plt.title(all_sample_title, size = 15);"
   ]
  },
  {
   "cell_type": "markdown",
   "id": "4505a0e2-0847-4f45-8f3f-7ab16c78a9cf",
   "metadata": {},
   "source": [
    "#### F1 Score"
   ]
  },
  {
   "cell_type": "code",
   "execution_count": null,
   "id": "9d728e12-5d92-4802-ab0c-fceccbcfbd12",
   "metadata": {},
   "outputs": [],
   "source": [
    "from sklearn.metrics import f1_score\n",
    "\n",
    "score = f1_score(true_labels, pred_labels, average=\"macro\")"
   ]
  },
  {
   "cell_type": "markdown",
   "id": "18358d44-7776-40b8-9ed6-552e2217288c",
   "metadata": {},
   "source": [
    "### Precision Recall Curve"
   ]
  },
  {
   "cell_type": "code",
   "execution_count": null,
   "id": "cbdf62b4-7f09-4628-8461-5096cecb1e33",
   "metadata": {},
   "outputs": [],
   "source": [
    "from sklearn.metrics import precision_recall_curve, roc_curve\n",
    "\n",
    "# precision recall curve\n",
    "precision = dict()\n",
    "recall = dict()\n",
    "for i in range(n_classes):\n",
    "    precision[i], recall[i], _ = precision_recall_curve(y_test[:, i],\n",
    "                                                        y_score[:, i])\n",
    "    plt.plot(recall[i], precision[i], lw=2, label='class {}'.format(i))\n",
    "    \n",
    "plt.xlabel(\"recall\")\n",
    "plt.ylabel(\"precision\")\n",
    "plt.legend(loc=\"best\")\n",
    "plt.title(\"precision vs. recall curve\")\n",
    "plt.show()"
   ]
  }
 ],
 "metadata": {
  "kernelspec": {
   "display_name": "Python 3 (ipykernel)",
   "language": "python",
   "name": "python3"
  },
  "language_info": {
   "codemirror_mode": {
    "name": "ipython",
    "version": 3
   },
   "file_extension": ".py",
   "mimetype": "text/x-python",
   "name": "python",
   "nbconvert_exporter": "python",
   "pygments_lexer": "ipython3",
   "version": "3.8.8"
  }
 },
 "nbformat": 4,
 "nbformat_minor": 5
}

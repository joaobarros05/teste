{
 "cells": [
  {
   "cell_type": "markdown",
   "id": "19c8728f-4735-43b0-a339-3ea682a0a211",
   "metadata": {},
   "source": [
    "#### Construir um Bag of Visual Words compreende três passos:\n",
    "- 1. Extração de features: Extração das features das imagens usando ORB;\n",
    "- 2. Construção de dicionário: É utilizado o algoritmo de agrupamento K-means. Os centroides obtidos são as palavras chaves;\n",
    "- 3. Quantização de vetor: É criado um histograma para representar a frequência de cada palavra visual.\n",
    "\n",
    "Foi realizado um treinamento com todos os dados. No entanto, o resultado não foi satisfatório; a rede não conseguiu convergir. Tentei relizar novos ajustes (tunning de modelo, aumento da cluster, uso de outro extrator de features - SIFT), mas a demora no processamento é considerável, impactando no tempo. Quando realizado o treinamento com apenas duas classes, há um bom resultado no modelo. Desse modo, realizei o treinamento com duas classes: gato e cachorro. "
   ]
  },
  {
   "cell_type": "markdown",
   "id": "2d42f4ba-c895-4917-8dbf-af3dae30ca30",
   "metadata": {},
   "source": [
    "### Import de bibliotecas"
   ]
  },
  {
   "cell_type": "code",
   "execution_count": 8,
   "id": "991f9686-64ba-4f30-ad42-a87f21359169",
   "metadata": {},
   "outputs": [],
   "source": [
    "import numpy as np\n",
    "import cv2\n",
    "import os\n",
    "from scipy import ndimage\n",
    "from scipy.spatial import distance\n",
    "from sklearn.cluster import KMeans\n",
    "from scipy.cluster.vq import kmeans,vq # Esse módulo é utilizado para quantização vetorial para usar com o K-Means\n",
    "from sklearn.model_selection import train_test_split\n",
    "from sklearn.preprocessing import StandardScaler\n",
    "from skimage import  data, color, feature\n",
    "import pickle\n",
    "import matplotlib.pyplot as plt\n",
    "from sklearn.svm import LinearSVC\n",
    "from sklearn.metrics import classification_report\n",
    "from sklearn.metrics import accuracy_score, confusion_matrix\n",
    "import pandas as pd #\n",
    "import random"
   ]
  },
  {
   "cell_type": "markdown",
   "id": "3e94c840-0514-45c1-9e33-27759633a055",
   "metadata": {},
   "source": [
    "## Carregamento de dataset e extração de features"
   ]
  },
  {
   "cell_type": "code",
   "execution_count": 2,
   "id": "e92eaa94-b0e3-45ff-aa1b-6a9f86dd2aa5",
   "metadata": {},
   "outputs": [],
   "source": [
    "'''\n",
    "Função para salvar estrutura de dados\n",
    "em extensão .pckl para posterior uso\n",
    "'''\n",
    "def save_data(data, save_path):\n",
    "    with open(save_path, 'wb') as f:\n",
    "        pickle.dump(data, f)\n",
    "\n",
    "'''\n",
    "Função para carregar estrutura de dados\n",
    "salva em extensão .pckl\n",
    "'''\n",
    "def load_data(data_path):\n",
    "    with open(data_path, 'rb') as f:\n",
    "        return pickle.load(f)\n",
    "\n",
    "'''\n",
    "Função para extração de features\n",
    "usando ORB\n",
    "'''\n",
    "def get_orb_features(img):\n",
    "    orb = cv2.ORB_create()\n",
    "    kp = orb.detect(img,None)\n",
    "    kp, des = orb.compute(img, kp)\n",
    "    return des\n",
    "\n",
    "\n",
    "#def get_sift_features(img):\n",
    "#    orb = cv2.ORB_create()\n",
    "#    kp = orb.detect(img,None)\n",
    "#    kp, des = orb.compute(img, kp)\n",
    "#    return des\n",
    "    \n",
    "'''\n",
    "Função para carregamento de dataset\n",
    "Recebe o diretório das imagens e,\n",
    "opcionalmente, faz o resize delas.\n",
    "Optou-se pelo resize por conta dos\n",
    "recursos computacionais.\n",
    "'''\n",
    "def load_dataset(folder_path, save = True, \n",
    "                 save_path = './dataset/dataset.pkl',\n",
    "                resize = True, resolution = (150,150)):\n",
    "    dataset = []\n",
    "    for filename in os.listdir(folder_path):\n",
    "        path = folder_path + '/' + filename\n",
    "        print('== >', filename)\n",
    "        for img_path in os.listdir(path):\n",
    "            # Carrega imagem em escala de cinza para posterior processamento\n",
    "            img = cv2.imread(path + '/' + img_path, 0)\n",
    "            if img is not None:\n",
    "                if resize:\n",
    "                    img = cv2.resize(img, resolution)\n",
    "                # Obtém os descritores a partir do orb\n",
    "                orb_descriptor = get_orb_features(img)\n",
    "                #hog_descriptor = get_hog(img)\n",
    "                \n",
    "                if orb_descriptor is not None:\n",
    "                    if(\"butterfly\" in filename):\n",
    "                        class_index = 0 #ok **50%\n",
    "                    elif(\"cat\" in filename):\n",
    "                        class_index = 1\n",
    "                    elif(\"chicken\" in filename):\n",
    "                        class_index = 2 # ok\n",
    "                    elif(\"cow\" in filename):\n",
    "                        class_index = 3 #ok\n",
    "                    elif(\"dog\" in filename):\n",
    "                        class_index = 4 # ok\n",
    "                    elif(\"elephant\" in filename):\n",
    "                        class_index = 5 # ok\n",
    "                    elif(\"horse\" in filename):\n",
    "                        class_index = 6 # ok\n",
    "                    elif(\"ragno\" in filename):\n",
    "                        class_index = 7 #  ok\n",
    "                    elif(\"sheep\" in filename):\n",
    "                        class_index = 8 # ok\n",
    "                    elif(\"squirrel\" in filename):\n",
    "                        class_index = 9 #\n",
    "                    dataset.append((orb_descriptor, class_index))\n",
    "    if save:\n",
    "        save_data(dataset, save_path)\n",
    "    return dataset"
   ]
  },
  {
   "cell_type": "code",
   "execution_count": 3,
   "id": "ed182f73-c177-48e6-a09c-7fbfd2335092",
   "metadata": {},
   "outputs": [],
   "source": [
    "'''\n",
    "Função utilizada para separar os dados de treino e teste\n",
    "80% são usados para treino, enquanto que os 30% para teste\n",
    "'''\n",
    "def split_dataset(dataset, test_size=0.3):\n",
    "    train_idx, val_idx = train_test_split(list(range(len(dataset))), test_size=test_size)\n",
    "    train_data = [dataset[i] for i in train_idx]\n",
    "    test_data = [dataset[i] for i in val_idx]\n",
    "    \n",
    "    data_train, y_train = zip(*train_data)\n",
    "    data_test, y_test = zip(*test_data)\n",
    "    \n",
    "    return data_train, y_train, data_test, y_test\n",
    "\n",
    "'''\n",
    "Nessa função, ocorre a construção do vocabulário de\n",
    "palavras visuais. Para isso, é utilizado o algoritmo \n",
    "k-means, que é responsável por agrupar o vetor de \n",
    "features obtidos a partir do ORB. Os centróides desse \n",
    "agrupamento são usados como dicionário de palavras \n",
    "visuais. Para cada vetor extraído, é calculado o seu \n",
    "vizinho mais próximo no dicionário criado com o K-means. \n",
    "A partir disso, é criado um histograma de comprimento k \n",
    "(número de clusters de K-means), que representa a \n",
    "frequência de cada palavra visual.\n",
    "'''\n",
    "\n",
    "def get_bovw(data, k = 150, save=True, save_path = './dataset/extracted_feature.pkl'):\n",
    "    #Empilha o array de vetores para vertical \n",
    "    descriptors=data[0]\n",
    "    for descriptor in data[1:]:\n",
    "        descriptors=np.vstack((descriptors,descriptor))\n",
    "     \n",
    "    \n",
    "    descriptors_float=descriptors.astype(float)\n",
    "    \n",
    "    # Executa k-means em um conjunto de vetores para\n",
    "    # obtenção de k clusters.\n",
    "    kmeans_obj = KMeans(k)\n",
    "    kmeans_ret = kmeans_obj.fit_predict(descriptors_float)\n",
    "    print (\"Clustering Completed\")\n",
    "    \n",
    "    # Constroi o histograma de features\n",
    "    # correspondente a cada imagem\n",
    "    im_features=np.zeros((len(data),k),\"float32\")\n",
    "    old_count = 0\n",
    "    for i in range(len(data)):\n",
    "        # Mapeia as observações para os centróides\n",
    "        # apropriados que são calculados no método\n",
    "        # kmeans. \n",
    "        l = len(data[i])\n",
    "        #print l\n",
    "        for j in range(l):\n",
    "            idx = kmeans_ret[old_count+j]\n",
    "            im_features[i][idx] += 1\n",
    "        old_count += l\n",
    "    print(\"Vocabulary Histogram Generated\")\n",
    "            \n",
    "    # Normaliza as features obtidas\n",
    "    stdslr=StandardScaler().fit(im_features)\n",
    "    im_features=stdslr.transform(im_features)\n",
    "            \n",
    "    if save:\n",
    "        save_data(im_features, save_path)\n",
    "    return im_features"
   ]
  },
  {
   "cell_type": "code",
   "execution_count": null,
   "id": "30080e11-ed54-4013-b8ab-c5ddf3d3ab9a",
   "metadata": {
    "jupyter": {
     "source_hidden": true
    },
    "tags": []
   },
   "outputs": [],
   "source": [
    "data_train = load_data('./dataset/old/data_train.pkl');\n",
    "y_train = load_data('./dataset/old/y_train.pkl');\n",
    "data_test = load_data('./dataset/old/data_test.pkl');\n",
    "y_test = load_data('./dataset/old/y_test.pkl');"
   ]
  },
  {
   "cell_type": "code",
   "execution_count": 4,
   "id": "a4e82f8c-0a79-4712-8478-5f0e22e65dc1",
   "metadata": {
    "tags": []
   },
   "outputs": [
    {
     "name": "stdout",
     "output_type": "stream",
     "text": [
      "== > dog\n",
      "== > cat\n"
     ]
    }
   ],
   "source": [
    "# Carregamento de dataset\n",
    "dataset = load_dataset('./dataset/temp', save = False, resize = True)\n",
    "#dataset = load_data('./dataset/dataset.pkl')\n",
    "# Divisão em treino e teste\n",
    "data_train, y_train, data_test, y_test = split_dataset(dataset)"
   ]
  },
  {
   "cell_type": "code",
   "execution_count": 6,
   "id": "deca2022-ceda-4736-81f2-fd4d17a2a3d9",
   "metadata": {
    "jupyter": {
     "source_hidden": true
    },
    "tags": []
   },
   "outputs": [],
   "source": [
    "#salvar descritores orb e seus labels\n",
    "save_data(data_train, './dataset/data_train_orb.pkl')\n",
    "save_data(y_train, './dataset/y_train.pkl')\n",
    "\n",
    "save_data(data_test, './dataset/data_test_orb.pkl')\n",
    "save_data(y_test, './dataset/y_test.pkl')"
   ]
  },
  {
   "cell_type": "code",
   "execution_count": null,
   "id": "5c5fe420-218a-4c6e-8393-56daf6171822",
   "metadata": {
    "jupyter": {
     "source_hidden": true
    },
    "tags": []
   },
   "outputs": [],
   "source": [
    "data_train = load_data('./dataset/data_train_orb.pkl')\n",
    "data_test = load_data('./dataset/data_test_orb.pkl')\n",
    "y_train = load_data('./dataset/y_train.pkl')\n",
    "y_test = load_data('./dataset/y_test.pkl')"
   ]
  },
  {
   "cell_type": "code",
   "execution_count": 5,
   "id": "891570ae-f99b-49f3-999e-8b739ec6ed74",
   "metadata": {},
   "outputs": [
    {
     "name": "stdout",
     "output_type": "stream",
     "text": [
      "Clustering Completed\n",
      "Vocabulary Histogram Generated\n",
      "Clustering Completed\n",
      "Vocabulary Histogram Generated\n"
     ]
    }
   ],
   "source": [
    "data_train = get_bovw(data_train, k = 150, save_path = './dataset/data_train.pkl')\n",
    "data_test = get_bovw(data_test, k = 150, save_path = './dataset/data_test.pkl')"
   ]
  },
  {
   "cell_type": "code",
   "execution_count": null,
   "id": "0e74488c-36e7-4946-b768-44267419c00f",
   "metadata": {
    "jupyter": {
     "source_hidden": true
    },
    "tags": []
   },
   "outputs": [],
   "source": [
    "#salvar labels\n",
    "save_data(y_train, './dataset/y_train.pkl')\n",
    "save_data(y_test, './dataset/y_test.pkl')"
   ]
  },
  {
   "cell_type": "markdown",
   "id": "b9f94d6d-93b5-44e8-812c-b67249ef7ed8",
   "metadata": {
    "tags": []
   },
   "source": [
    "# Treinamento SVM"
   ]
  },
  {
   "cell_type": "markdown",
   "id": "644cfe53-295e-4fc1-974e-8fe3c4141c6f",
   "metadata": {},
   "source": [
    "### Resultados"
   ]
  },
  {
   "cell_type": "markdown",
   "id": "d77a5144-c24f-43a0-949c-9a9b20773d06",
   "metadata": {},
   "source": [
    "Maior precision significa que o modelo retorna resultados mais relevantes do que inrelevantes, enquanto que maior recall significa que o modelo retorna a maioria dos resultados relevantes. F1-score combina a precisão e o reccal em uma unica métrica. É basicamente uma média \"harmônica\" entre a precision e o recall. A matriz de confusão sumariza a performace do modelo. Das redes treinadas abaixo, a SVM foi que obteve o melhor resultado. Os classificadores não apresentam um bom desempenho na detecção de gatos. Houve uma alta taxa de Falso Positivo, além dos valores de precision, recall e f1-score serem extremamente baixo. Algumas alternativas para melhorias desse classificadores seria, a princípio, o tunning destes, além do aumentando de iteração. A verificação de dataset também é importante, a fim de identificar erros na amostra. Uma questão também seria aumentar o valor de k na construção dos klusteres, a fim de aumentar a discriminação de características. Poderia-se também utilizar como input o HOG, além do dicionário visual, mas aí caberia um certo tempo de como ficaria o stack dos vetores de input."
   ]
  },
  {
   "cell_type": "code",
   "execution_count": 7,
   "id": "047fab69-f4e0-4224-83dc-16aa025a1909",
   "metadata": {
    "collapsed": true,
    "jupyter": {
     "outputs_hidden": true
    },
    "tags": []
   },
   "outputs": [
    {
     "name": "stdout",
     "output_type": "stream",
     "text": [
      "Fitting 5 folds for each of 48 candidates, totalling 240 fits\n",
      "[CV] END .........................C=0.1, gamma=1, kernel=rbf; total time=   1.1s\n",
      "[CV] END .........................C=0.1, gamma=1, kernel=rbf; total time=   1.1s\n",
      "[CV] END .........................C=0.1, gamma=1, kernel=rbf; total time=   1.1s\n",
      "[CV] END .........................C=0.1, gamma=1, kernel=rbf; total time=   1.1s\n",
      "[CV] END .........................C=0.1, gamma=1, kernel=rbf; total time=   1.1s\n",
      "[CV] END ........................C=0.1, gamma=1, kernel=poly; total time=   0.8s\n",
      "[CV] END ........................C=0.1, gamma=1, kernel=poly; total time=   0.8s\n",
      "[CV] END ........................C=0.1, gamma=1, kernel=poly; total time=   0.8s\n",
      "[CV] END ........................C=0.1, gamma=1, kernel=poly; total time=   0.8s\n",
      "[CV] END ........................C=0.1, gamma=1, kernel=poly; total time=   0.8s\n",
      "[CV] END .....................C=0.1, gamma=1, kernel=sigmoid; total time=   0.5s\n",
      "[CV] END .....................C=0.1, gamma=1, kernel=sigmoid; total time=   0.6s\n",
      "[CV] END .....................C=0.1, gamma=1, kernel=sigmoid; total time=   0.7s\n",
      "[CV] END .....................C=0.1, gamma=1, kernel=sigmoid; total time=   0.6s\n",
      "[CV] END .....................C=0.1, gamma=1, kernel=sigmoid; total time=   0.5s\n",
      "[CV] END .......................C=0.1, gamma=0.1, kernel=rbf; total time=   1.1s\n",
      "[CV] END .......................C=0.1, gamma=0.1, kernel=rbf; total time=   1.1s\n",
      "[CV] END .......................C=0.1, gamma=0.1, kernel=rbf; total time=   1.1s\n",
      "[CV] END .......................C=0.1, gamma=0.1, kernel=rbf; total time=   1.1s\n",
      "[CV] END .......................C=0.1, gamma=0.1, kernel=rbf; total time=   1.1s\n",
      "[CV] END ......................C=0.1, gamma=0.1, kernel=poly; total time=   0.8s\n",
      "[CV] END ......................C=0.1, gamma=0.1, kernel=poly; total time=   0.8s\n",
      "[CV] END ......................C=0.1, gamma=0.1, kernel=poly; total time=   0.8s\n",
      "[CV] END ......................C=0.1, gamma=0.1, kernel=poly; total time=   0.8s\n",
      "[CV] END ......................C=0.1, gamma=0.1, kernel=poly; total time=   0.8s\n",
      "[CV] END ...................C=0.1, gamma=0.1, kernel=sigmoid; total time=   0.6s\n",
      "[CV] END ...................C=0.1, gamma=0.1, kernel=sigmoid; total time=   0.7s\n",
      "[CV] END ...................C=0.1, gamma=0.1, kernel=sigmoid; total time=   0.6s\n",
      "[CV] END ...................C=0.1, gamma=0.1, kernel=sigmoid; total time=   0.6s\n",
      "[CV] END ...................C=0.1, gamma=0.1, kernel=sigmoid; total time=   0.6s\n",
      "[CV] END ......................C=0.1, gamma=0.01, kernel=rbf; total time=   1.0s\n",
      "[CV] END ......................C=0.1, gamma=0.01, kernel=rbf; total time=   1.0s\n",
      "[CV] END ......................C=0.1, gamma=0.01, kernel=rbf; total time=   1.0s\n",
      "[CV] END ......................C=0.1, gamma=0.01, kernel=rbf; total time=   1.0s\n",
      "[CV] END ......................C=0.1, gamma=0.01, kernel=rbf; total time=   1.0s\n",
      "[CV] END .....................C=0.1, gamma=0.01, kernel=poly; total time=   0.8s\n",
      "[CV] END .....................C=0.1, gamma=0.01, kernel=poly; total time=   0.8s\n",
      "[CV] END .....................C=0.1, gamma=0.01, kernel=poly; total time=   0.7s\n",
      "[CV] END .....................C=0.1, gamma=0.01, kernel=poly; total time=   0.8s\n",
      "[CV] END .....................C=0.1, gamma=0.01, kernel=poly; total time=   0.8s\n",
      "[CV] END ..................C=0.1, gamma=0.01, kernel=sigmoid; total time=   0.8s\n",
      "[CV] END ..................C=0.1, gamma=0.01, kernel=sigmoid; total time=   0.8s\n",
      "[CV] END ..................C=0.1, gamma=0.01, kernel=sigmoid; total time=   0.7s\n",
      "[CV] END ..................C=0.1, gamma=0.01, kernel=sigmoid; total time=   0.7s\n",
      "[CV] END ..................C=0.1, gamma=0.01, kernel=sigmoid; total time=   0.7s\n",
      "[CV] END .....................C=0.1, gamma=0.001, kernel=rbf; total time=   0.9s\n",
      "[CV] END .....................C=0.1, gamma=0.001, kernel=rbf; total time=   0.9s\n",
      "[CV] END .....................C=0.1, gamma=0.001, kernel=rbf; total time=   0.9s\n",
      "[CV] END .....................C=0.1, gamma=0.001, kernel=rbf; total time=   0.9s\n",
      "[CV] END .....................C=0.1, gamma=0.001, kernel=rbf; total time=   0.9s\n",
      "[CV] END ....................C=0.1, gamma=0.001, kernel=poly; total time=   0.4s\n",
      "[CV] END ....................C=0.1, gamma=0.001, kernel=poly; total time=   0.4s\n",
      "[CV] END ....................C=0.1, gamma=0.001, kernel=poly; total time=   0.4s\n",
      "[CV] END ....................C=0.1, gamma=0.001, kernel=poly; total time=   0.4s\n",
      "[CV] END ....................C=0.1, gamma=0.001, kernel=poly; total time=   0.4s\n",
      "[CV] END .................C=0.1, gamma=0.001, kernel=sigmoid; total time=   0.6s\n",
      "[CV] END .................C=0.1, gamma=0.001, kernel=sigmoid; total time=   0.6s\n",
      "[CV] END .................C=0.1, gamma=0.001, kernel=sigmoid; total time=   0.6s\n",
      "[CV] END .................C=0.1, gamma=0.001, kernel=sigmoid; total time=   0.6s\n",
      "[CV] END .................C=0.1, gamma=0.001, kernel=sigmoid; total time=   0.6s\n",
      "[CV] END ...........................C=1, gamma=1, kernel=rbf; total time=   1.2s\n",
      "[CV] END ...........................C=1, gamma=1, kernel=rbf; total time=   1.2s\n",
      "[CV] END ...........................C=1, gamma=1, kernel=rbf; total time=   1.2s\n",
      "[CV] END ...........................C=1, gamma=1, kernel=rbf; total time=   1.2s\n",
      "[CV] END ...........................C=1, gamma=1, kernel=rbf; total time=   1.3s\n",
      "[CV] END ..........................C=1, gamma=1, kernel=poly; total time=   0.8s\n",
      "[CV] END ..........................C=1, gamma=1, kernel=poly; total time=   0.8s\n",
      "[CV] END ..........................C=1, gamma=1, kernel=poly; total time=   1.0s\n",
      "[CV] END ..........................C=1, gamma=1, kernel=poly; total time=   0.8s\n",
      "[CV] END ..........................C=1, gamma=1, kernel=poly; total time=   0.8s\n",
      "[CV] END .......................C=1, gamma=1, kernel=sigmoid; total time=   0.5s\n",
      "[CV] END .......................C=1, gamma=1, kernel=sigmoid; total time=   0.5s\n",
      "[CV] END .......................C=1, gamma=1, kernel=sigmoid; total time=   0.6s\n",
      "[CV] END .......................C=1, gamma=1, kernel=sigmoid; total time=   0.6s\n",
      "[CV] END .......................C=1, gamma=1, kernel=sigmoid; total time=   0.5s\n",
      "[CV] END .........................C=1, gamma=0.1, kernel=rbf; total time=   1.1s\n",
      "[CV] END .........................C=1, gamma=0.1, kernel=rbf; total time=   1.2s\n",
      "[CV] END .........................C=1, gamma=0.1, kernel=rbf; total time=   1.2s\n",
      "[CV] END .........................C=1, gamma=0.1, kernel=rbf; total time=   1.1s\n",
      "[CV] END .........................C=1, gamma=0.1, kernel=rbf; total time=   1.2s\n",
      "[CV] END ........................C=1, gamma=0.1, kernel=poly; total time=   0.8s\n",
      "[CV] END ........................C=1, gamma=0.1, kernel=poly; total time=   0.8s\n",
      "[CV] END ........................C=1, gamma=0.1, kernel=poly; total time=   0.8s\n",
      "[CV] END ........................C=1, gamma=0.1, kernel=poly; total time=   0.8s\n",
      "[CV] END ........................C=1, gamma=0.1, kernel=poly; total time=   0.8s\n",
      "[CV] END .....................C=1, gamma=0.1, kernel=sigmoid; total time=   0.5s\n",
      "[CV] END .....................C=1, gamma=0.1, kernel=sigmoid; total time=   0.5s\n",
      "[CV] END .....................C=1, gamma=0.1, kernel=sigmoid; total time=   0.7s\n",
      "[CV] END .....................C=1, gamma=0.1, kernel=sigmoid; total time=   0.6s\n",
      "[CV] END .....................C=1, gamma=0.1, kernel=sigmoid; total time=   0.5s\n",
      "[CV] END ........................C=1, gamma=0.01, kernel=rbf; total time=   1.1s\n",
      "[CV] END ........................C=1, gamma=0.01, kernel=rbf; total time=   1.1s\n",
      "[CV] END ........................C=1, gamma=0.01, kernel=rbf; total time=   1.1s\n",
      "[CV] END ........................C=1, gamma=0.01, kernel=rbf; total time=   1.1s\n",
      "[CV] END ........................C=1, gamma=0.01, kernel=rbf; total time=   1.1s\n",
      "[CV] END .......................C=1, gamma=0.01, kernel=poly; total time=   0.8s\n",
      "[CV] END .......................C=1, gamma=0.01, kernel=poly; total time=   0.8s\n",
      "[CV] END .......................C=1, gamma=0.01, kernel=poly; total time=   0.8s\n",
      "[CV] END .......................C=1, gamma=0.01, kernel=poly; total time=   0.8s\n",
      "[CV] END .......................C=1, gamma=0.01, kernel=poly; total time=   0.8s\n",
      "[CV] END ....................C=1, gamma=0.01, kernel=sigmoid; total time=   0.6s\n",
      "[CV] END ....................C=1, gamma=0.01, kernel=sigmoid; total time=   0.7s\n",
      "[CV] END ....................C=1, gamma=0.01, kernel=sigmoid; total time=   0.8s\n",
      "[CV] END ....................C=1, gamma=0.01, kernel=sigmoid; total time=   0.6s\n",
      "[CV] END ....................C=1, gamma=0.01, kernel=sigmoid; total time=   0.7s\n",
      "[CV] END .......................C=1, gamma=0.001, kernel=rbf; total time=   1.0s\n",
      "[CV] END .......................C=1, gamma=0.001, kernel=rbf; total time=   1.1s\n",
      "[CV] END .......................C=1, gamma=0.001, kernel=rbf; total time=   0.9s\n",
      "[CV] END .......................C=1, gamma=0.001, kernel=rbf; total time=   1.0s\n",
      "[CV] END .......................C=1, gamma=0.001, kernel=rbf; total time=   0.9s\n",
      "[CV] END ......................C=1, gamma=0.001, kernel=poly; total time=   0.7s\n",
      "[CV] END ......................C=1, gamma=0.001, kernel=poly; total time=   0.7s\n",
      "[CV] END ......................C=1, gamma=0.001, kernel=poly; total time=   0.7s\n",
      "[CV] END ......................C=1, gamma=0.001, kernel=poly; total time=   0.7s\n",
      "[CV] END ......................C=1, gamma=0.001, kernel=poly; total time=   0.7s\n",
      "[CV] END ...................C=1, gamma=0.001, kernel=sigmoid; total time=   1.5s\n",
      "[CV] END ...................C=1, gamma=0.001, kernel=sigmoid; total time=   1.4s\n",
      "[CV] END ...................C=1, gamma=0.001, kernel=sigmoid; total time=   1.4s\n",
      "[CV] END ...................C=1, gamma=0.001, kernel=sigmoid; total time=   1.2s\n",
      "[CV] END ...................C=1, gamma=0.001, kernel=sigmoid; total time=   1.4s\n",
      "[CV] END ..........................C=10, gamma=1, kernel=rbf; total time=   1.3s\n",
      "[CV] END ..........................C=10, gamma=1, kernel=rbf; total time=   1.3s\n",
      "[CV] END ..........................C=10, gamma=1, kernel=rbf; total time=   1.2s\n",
      "[CV] END ..........................C=10, gamma=1, kernel=rbf; total time=   1.2s\n",
      "[CV] END ..........................C=10, gamma=1, kernel=rbf; total time=   1.2s\n",
      "[CV] END .........................C=10, gamma=1, kernel=poly; total time=   0.8s\n",
      "[CV] END .........................C=10, gamma=1, kernel=poly; total time=   0.8s\n",
      "[CV] END .........................C=10, gamma=1, kernel=poly; total time=   0.8s\n",
      "[CV] END .........................C=10, gamma=1, kernel=poly; total time=   0.8s\n",
      "[CV] END .........................C=10, gamma=1, kernel=poly; total time=   0.8s\n",
      "[CV] END ......................C=10, gamma=1, kernel=sigmoid; total time=   0.5s\n",
      "[CV] END ......................C=10, gamma=1, kernel=sigmoid; total time=   0.5s\n",
      "[CV] END ......................C=10, gamma=1, kernel=sigmoid; total time=   0.5s\n",
      "[CV] END ......................C=10, gamma=1, kernel=sigmoid; total time=   0.6s\n",
      "[CV] END ......................C=10, gamma=1, kernel=sigmoid; total time=   0.5s\n",
      "[CV] END ........................C=10, gamma=0.1, kernel=rbf; total time=   1.2s\n",
      "[CV] END ........................C=10, gamma=0.1, kernel=rbf; total time=   1.5s\n",
      "[CV] END ........................C=10, gamma=0.1, kernel=rbf; total time=   1.2s\n",
      "[CV] END ........................C=10, gamma=0.1, kernel=rbf; total time=   1.2s\n",
      "[CV] END ........................C=10, gamma=0.1, kernel=rbf; total time=   1.3s\n",
      "[CV] END .......................C=10, gamma=0.1, kernel=poly; total time=   0.8s\n",
      "[CV] END .......................C=10, gamma=0.1, kernel=poly; total time=   0.8s\n",
      "[CV] END .......................C=10, gamma=0.1, kernel=poly; total time=   0.8s\n",
      "[CV] END .......................C=10, gamma=0.1, kernel=poly; total time=   0.8s\n",
      "[CV] END .......................C=10, gamma=0.1, kernel=poly; total time=   0.8s\n",
      "[CV] END ....................C=10, gamma=0.1, kernel=sigmoid; total time=   0.6s\n",
      "[CV] END ....................C=10, gamma=0.1, kernel=sigmoid; total time=   0.6s\n",
      "[CV] END ....................C=10, gamma=0.1, kernel=sigmoid; total time=   0.7s\n",
      "[CV] END ....................C=10, gamma=0.1, kernel=sigmoid; total time=   0.6s\n",
      "[CV] END ....................C=10, gamma=0.1, kernel=sigmoid; total time=   0.5s\n",
      "[CV] END .......................C=10, gamma=0.01, kernel=rbf; total time=   1.2s\n",
      "[CV] END .......................C=10, gamma=0.01, kernel=rbf; total time=   1.2s\n",
      "[CV] END .......................C=10, gamma=0.01, kernel=rbf; total time=   1.2s\n",
      "[CV] END .......................C=10, gamma=0.01, kernel=rbf; total time=   1.2s\n",
      "[CV] END .......................C=10, gamma=0.01, kernel=rbf; total time=   1.2s\n",
      "[CV] END ......................C=10, gamma=0.01, kernel=poly; total time=   0.9s\n",
      "[CV] END ......................C=10, gamma=0.01, kernel=poly; total time=   1.1s\n",
      "[CV] END ......................C=10, gamma=0.01, kernel=poly; total time=   0.8s\n",
      "[CV] END ......................C=10, gamma=0.01, kernel=poly; total time=   0.8s\n",
      "[CV] END ......................C=10, gamma=0.01, kernel=poly; total time=   0.8s\n",
      "[CV] END ...................C=10, gamma=0.01, kernel=sigmoid; total time=   0.5s\n",
      "[CV] END ...................C=10, gamma=0.01, kernel=sigmoid; total time=   0.5s\n",
      "[CV] END ...................C=10, gamma=0.01, kernel=sigmoid; total time=   0.5s\n",
      "[CV] END ...................C=10, gamma=0.01, kernel=sigmoid; total time=   0.5s\n",
      "[CV] END ...................C=10, gamma=0.01, kernel=sigmoid; total time=   0.5s\n",
      "[CV] END ......................C=10, gamma=0.001, kernel=rbf; total time=   1.0s\n",
      "[CV] END ......................C=10, gamma=0.001, kernel=rbf; total time=   1.0s\n",
      "[CV] END ......................C=10, gamma=0.001, kernel=rbf; total time=   1.0s\n",
      "[CV] END ......................C=10, gamma=0.001, kernel=rbf; total time=   1.0s\n",
      "[CV] END ......................C=10, gamma=0.001, kernel=rbf; total time=   1.0s\n",
      "[CV] END .....................C=10, gamma=0.001, kernel=poly; total time=   0.8s\n",
      "[CV] END .....................C=10, gamma=0.001, kernel=poly; total time=   0.8s\n",
      "[CV] END .....................C=10, gamma=0.001, kernel=poly; total time=   0.8s\n",
      "[CV] END .....................C=10, gamma=0.001, kernel=poly; total time=   0.8s\n",
      "[CV] END .....................C=10, gamma=0.001, kernel=poly; total time=   0.8s\n",
      "[CV] END ..................C=10, gamma=0.001, kernel=sigmoid; total time=   1.8s\n",
      "[CV] END ..................C=10, gamma=0.001, kernel=sigmoid; total time=   1.9s\n",
      "[CV] END ..................C=10, gamma=0.001, kernel=sigmoid; total time=   1.8s\n",
      "[CV] END ..................C=10, gamma=0.001, kernel=sigmoid; total time=   2.6s\n",
      "[CV] END ..................C=10, gamma=0.001, kernel=sigmoid; total time=   2.0s\n",
      "[CV] END .........................C=100, gamma=1, kernel=rbf; total time=   1.2s\n",
      "[CV] END .........................C=100, gamma=1, kernel=rbf; total time=   1.2s\n",
      "[CV] END .........................C=100, gamma=1, kernel=rbf; total time=   1.2s\n",
      "[CV] END .........................C=100, gamma=1, kernel=rbf; total time=   1.2s\n",
      "[CV] END .........................C=100, gamma=1, kernel=rbf; total time=   1.2s\n",
      "[CV] END ........................C=100, gamma=1, kernel=poly; total time=   0.8s\n",
      "[CV] END ........................C=100, gamma=1, kernel=poly; total time=   0.8s\n",
      "[CV] END ........................C=100, gamma=1, kernel=poly; total time=   0.8s\n",
      "[CV] END ........................C=100, gamma=1, kernel=poly; total time=   0.8s\n",
      "[CV] END ........................C=100, gamma=1, kernel=poly; total time=   0.9s\n",
      "[CV] END .....................C=100, gamma=1, kernel=sigmoid; total time=   0.5s\n",
      "[CV] END .....................C=100, gamma=1, kernel=sigmoid; total time=   0.5s\n",
      "[CV] END .....................C=100, gamma=1, kernel=sigmoid; total time=   0.6s\n",
      "[CV] END .....................C=100, gamma=1, kernel=sigmoid; total time=   0.6s\n",
      "[CV] END .....................C=100, gamma=1, kernel=sigmoid; total time=   0.5s\n",
      "[CV] END .......................C=100, gamma=0.1, kernel=rbf; total time=   1.2s\n",
      "[CV] END .......................C=100, gamma=0.1, kernel=rbf; total time=   1.2s\n",
      "[CV] END .......................C=100, gamma=0.1, kernel=rbf; total time=   1.2s\n",
      "[CV] END .......................C=100, gamma=0.1, kernel=rbf; total time=   1.2s\n",
      "[CV] END .......................C=100, gamma=0.1, kernel=rbf; total time=   1.2s\n",
      "[CV] END ......................C=100, gamma=0.1, kernel=poly; total time=   0.8s\n",
      "[CV] END ......................C=100, gamma=0.1, kernel=poly; total time=   0.8s\n",
      "[CV] END ......................C=100, gamma=0.1, kernel=poly; total time=   0.8s\n",
      "[CV] END ......................C=100, gamma=0.1, kernel=poly; total time=   0.8s\n",
      "[CV] END ......................C=100, gamma=0.1, kernel=poly; total time=   0.8s\n",
      "[CV] END ...................C=100, gamma=0.1, kernel=sigmoid; total time=   0.6s\n",
      "[CV] END ...................C=100, gamma=0.1, kernel=sigmoid; total time=   0.5s\n",
      "[CV] END ...................C=100, gamma=0.1, kernel=sigmoid; total time=   0.6s\n",
      "[CV] END ...................C=100, gamma=0.1, kernel=sigmoid; total time=   0.6s\n",
      "[CV] END ...................C=100, gamma=0.1, kernel=sigmoid; total time=   0.5s\n",
      "[CV] END ......................C=100, gamma=0.01, kernel=rbf; total time=   1.2s\n",
      "[CV] END ......................C=100, gamma=0.01, kernel=rbf; total time=   1.2s\n",
      "[CV] END ......................C=100, gamma=0.01, kernel=rbf; total time=   1.2s\n",
      "[CV] END ......................C=100, gamma=0.01, kernel=rbf; total time=   1.2s\n",
      "[CV] END ......................C=100, gamma=0.01, kernel=rbf; total time=   1.2s\n",
      "[CV] END .....................C=100, gamma=0.01, kernel=poly; total time=   0.8s\n",
      "[CV] END .....................C=100, gamma=0.01, kernel=poly; total time=   0.8s\n",
      "[CV] END .....................C=100, gamma=0.01, kernel=poly; total time=   0.8s\n",
      "[CV] END .....................C=100, gamma=0.01, kernel=poly; total time=   0.8s\n",
      "[CV] END .....................C=100, gamma=0.01, kernel=poly; total time=   0.8s\n",
      "[CV] END ..................C=100, gamma=0.01, kernel=sigmoid; total time=   0.5s\n",
      "[CV] END ..................C=100, gamma=0.01, kernel=sigmoid; total time=   0.5s\n",
      "[CV] END ..................C=100, gamma=0.01, kernel=sigmoid; total time=   0.5s\n",
      "[CV] END ..................C=100, gamma=0.01, kernel=sigmoid; total time=   0.5s\n",
      "[CV] END ..................C=100, gamma=0.01, kernel=sigmoid; total time=   0.4s\n",
      "[CV] END .....................C=100, gamma=0.001, kernel=rbf; total time=   1.7s\n",
      "[CV] END .....................C=100, gamma=0.001, kernel=rbf; total time=   1.6s\n",
      "[CV] END .....................C=100, gamma=0.001, kernel=rbf; total time=   1.6s\n",
      "[CV] END .....................C=100, gamma=0.001, kernel=rbf; total time=   1.6s\n",
      "[CV] END .....................C=100, gamma=0.001, kernel=rbf; total time=   1.7s\n",
      "[CV] END ....................C=100, gamma=0.001, kernel=poly; total time=   0.8s\n",
      "[CV] END ....................C=100, gamma=0.001, kernel=poly; total time=   0.8s\n",
      "[CV] END ....................C=100, gamma=0.001, kernel=poly; total time=   0.7s\n",
      "[CV] END ....................C=100, gamma=0.001, kernel=poly; total time=   0.8s\n",
      "[CV] END ....................C=100, gamma=0.001, kernel=poly; total time=   0.8s\n",
      "[CV] END .................C=100, gamma=0.001, kernel=sigmoid; total time=   3.6s\n",
      "[CV] END .................C=100, gamma=0.001, kernel=sigmoid; total time=   2.3s\n",
      "[CV] END .................C=100, gamma=0.001, kernel=sigmoid; total time=   3.0s\n",
      "[CV] END .................C=100, gamma=0.001, kernel=sigmoid; total time=   2.6s\n",
      "[CV] END .................C=100, gamma=0.001, kernel=sigmoid; total time=   2.2s\n",
      "SVC(C=10, gamma=0.001)\n"
     ]
    },
    {
     "ename": "NameError",
     "evalue": "name 'confusion_matrix' is not defined",
     "output_type": "error",
     "traceback": [
      "\u001b[0;31m---------------------------------------------------------------------------\u001b[0m",
      "\u001b[0;31mNameError\u001b[0m                                 Traceback (most recent call last)",
      "Input \u001b[0;32mIn [7]\u001b[0m, in \u001b[0;36m<cell line: 10>\u001b[0;34m()\u001b[0m\n\u001b[1;32m      7\u001b[0m \u001b[38;5;28mprint\u001b[39m(grid\u001b[38;5;241m.\u001b[39mbest_estimator_)\n\u001b[1;32m      9\u001b[0m grid_predictions \u001b[38;5;241m=\u001b[39m grid\u001b[38;5;241m.\u001b[39mpredict(data_test)\n\u001b[0;32m---> 10\u001b[0m \u001b[38;5;28mprint\u001b[39m(\u001b[43mconfusion_matrix\u001b[49m(y_test,grid_predictions))\n\u001b[1;32m     11\u001b[0m \u001b[38;5;28mprint\u001b[39m(classification_report(y_test,grid_predictions))\n",
      "\u001b[0;31mNameError\u001b[0m: name 'confusion_matrix' is not defined"
     ]
    }
   ],
   "source": [
    "from sklearn.model_selection import GridSearchCV\n",
    "from sklearn.svm import SVC\n",
    "\n",
    "param_grid = {'C': [0.1,1, 10, 100], 'gamma': [1,0.1,0.01,0.001],'kernel': ['rbf', 'poly', 'sigmoid']}\n",
    "grid = GridSearchCV(SVC(), param_grid, refit=True, verbose=2)\n",
    "grid.fit(data_train,y_train)\n",
    "print(grid.best_estimator_)"
   ]
  },
  {
   "cell_type": "markdown",
   "id": "19af1e00-77a0-4268-aca8-d6119d987466",
   "metadata": {
    "tags": []
   },
   "source": [
    "### Pecision, Recall, F1-Score"
   ]
  },
  {
   "cell_type": "code",
   "execution_count": 21,
   "id": "20d2cd1e-25a0-4748-b464-e8900d947117",
   "metadata": {},
   "outputs": [
    {
     "name": "stdout",
     "output_type": "stream",
     "text": [
      "              precision    recall  f1-score   support\n",
      "\n",
      "           1       0.43      0.01      0.02       492\n",
      "           4       0.75      0.99      0.86      1468\n",
      "\n",
      "    accuracy                           0.75      1960\n",
      "   macro avg       0.59      0.50      0.44      1960\n",
      "weighted avg       0.67      0.75      0.65      1960\n",
      "\n"
     ]
    }
   ],
   "source": [
    "\n",
    "print(classification_report(y_test,grid_predictions))"
   ]
  },
  {
   "cell_type": "markdown",
   "id": "31bb2064-13f9-436e-99b0-8949a7385b31",
   "metadata": {},
   "source": [
    "### Matriz de confusão\n",
    "---------\n",
    " 0 - gato;\n",
    " 1 - cachorro"
   ]
  },
  {
   "cell_type": "code",
   "execution_count": 11,
   "id": "52d1442b-e4b1-4d5c-a5a0-1da22ba7b523",
   "metadata": {},
   "outputs": [
    {
     "data": {
      "image/png": "[encoded data removed]",
      "text/plain": [
       "<Figure size 648x648 with 2 Axes>"
      ]
     },
     "metadata": {
      "needs_background": "light"
     },
     "output_type": "display_data"
    }
   ],
   "source": [
    "import seaborn as sns\n",
    "\n",
    "acc_svm = accuracy_score(y_test, grid_predictions)\n",
    "cm = confusion_matrix(y_test, grid_predictions)\n",
    "\n",
    "plt.figure(figsize=(9,9))\n",
    "sns.heatmap(cm, annot=True, fmt=\".3f\", linewidths=.5, square = True, cmap = 'Blues_r');\n",
    "plt.ylabel('Actual label');\n",
    "plt.xlabel('Predicted label');\n",
    "all_sample_title = 'Accuracy Score: {0}'.format(acc_svm)\n",
    "plt.title(all_sample_title, size = 15);"
   ]
  },
  {
   "cell_type": "markdown",
   "id": "39fd8819-1cd4-41d4-8ae5-5bf34235e88f",
   "metadata": {
    "tags": []
   },
   "source": [
    "# Treinamento KNN"
   ]
  },
  {
   "cell_type": "code",
   "execution_count": 12,
   "id": "e52823d5-ae1b-4082-b7a6-87a6c6e0c813",
   "metadata": {},
   "outputs": [
    {
     "data": {
      "text/html": [
       "<style>#sk-container-id-1 {color: black;background-color: white;}#sk-container-id-1 pre{padding: 0;}#sk-container-id-1 div.sk-toggleable {background-color: white;}#sk-container-id-1 label.sk-toggleable__label {cursor: pointer;display: block;width: 100%;margin-bottom: 0;padding: 0.3em;box-sizing: border-box;text-align: center;}#sk-container-id-1 label.sk-toggleable__label-arrow:before {content: \"▸\";float: left;margin-right: 0.25em;color: #696969;}#sk-container-id-1 label.sk-toggleable__label-arrow:hover:before {color: black;}#sk-container-id-1 div.sk-estimator:hover label.sk-toggleable__label-arrow:before {color: black;}#sk-container-id-1 div.sk-toggleable__content {max-height: 0;max-width: 0;overflow: hidden;text-align: left;background-color: #f0f8ff;}#sk-container-id-1 div.sk-toggleable__content pre {margin: 0.2em;color: black;border-radius: 0.25em;background-color: #f0f8ff;}#sk-container-id-1 input.sk-toggleable__control:checked~div.sk-toggleable__content {max-height: 200px;max-width: 100%;overflow: auto;}#sk-container-id-1 input.sk-toggleable__control:checked~label.sk-toggleable__label-arrow:before {content: \"▾\";}#sk-container-id-1 div.sk-estimator input.sk-toggleable__control:checked~label.sk-toggleable__label {background-color: #d4ebff;}#sk-container-id-1 div.sk-label input.sk-toggleable__control:checked~label.sk-toggleable__label {background-color: #d4ebff;}#sk-container-id-1 input.sk-hidden--visually {border: 0;clip: rect(1px 1px 1px 1px);clip: rect(1px, 1px, 1px, 1px);height: 1px;margin: -1px;overflow: hidden;padding: 0;position: absolute;width: 1px;}#sk-container-id-1 div.sk-estimator {font-family: monospace;background-color: #f0f8ff;border: 1px dotted black;border-radius: 0.25em;box-sizing: border-box;margin-bottom: 0.5em;}#sk-container-id-1 div.sk-estimator:hover {background-color: #d4ebff;}#sk-container-id-1 div.sk-parallel-item::after {content: \"\";width: 100%;border-bottom: 1px solid gray;flex-grow: 1;}#sk-container-id-1 div.sk-label:hover label.sk-toggleable__label {background-color: #d4ebff;}#sk-container-id-1 div.sk-serial::before {content: \"\";position: absolute;border-left: 1px solid gray;box-sizing: border-box;top: 0;bottom: 0;left: 50%;z-index: 0;}#sk-container-id-1 div.sk-serial {display: flex;flex-direction: column;align-items: center;background-color: white;padding-right: 0.2em;padding-left: 0.2em;position: relative;}#sk-container-id-1 div.sk-item {position: relative;z-index: 1;}#sk-container-id-1 div.sk-parallel {display: flex;align-items: stretch;justify-content: center;background-color: white;position: relative;}#sk-container-id-1 div.sk-item::before, #sk-container-id-1 div.sk-parallel-item::before {content: \"\";position: absolute;border-left: 1px solid gray;box-sizing: border-box;top: 0;bottom: 0;left: 50%;z-index: -1;}#sk-container-id-1 div.sk-parallel-item {display: flex;flex-direction: column;z-index: 1;position: relative;background-color: white;}#sk-container-id-1 div.sk-parallel-item:first-child::after {align-self: flex-end;width: 50%;}#sk-container-id-1 div.sk-parallel-item:last-child::after {align-self: flex-start;width: 50%;}#sk-container-id-1 div.sk-parallel-item:only-child::after {width: 0;}#sk-container-id-1 div.sk-dashed-wrapped {border: 1px dashed gray;margin: 0 0.4em 0.5em 0.4em;box-sizing: border-box;padding-bottom: 0.4em;background-color: white;}#sk-container-id-1 div.sk-label label {font-family: monospace;font-weight: bold;display: inline-block;line-height: 1.2em;}#sk-container-id-1 div.sk-label-container {text-align: center;}#sk-container-id-1 div.sk-container {/* jupyter's `normalize.less` sets `[hidden] { display: none; }` but bootstrap.min.css set `[hidden] { display: none !important; }` so we also need the `!important` here to be able to override the default hidden behavior on the sphinx rendered scikit-learn.org. See: https://github.com/scikit-learn/scikit-learn/issues/21755 */display: inline-block !important;position: relative;}#sk-container-id-1 div.sk-text-repr-fallback {display: none;}</style><div id=\"sk-container-id-1\" class=\"sk-top-container\"><div class=\"sk-text-repr-fallback\"><pre>KNeighborsClassifier()</pre><b>In a Jupyter environment, please rerun this cell to show the HTML representation or trust the notebook. <br />On GitHub, the HTML representation is unable to render, please try loading this page with nbviewer.org.</b></div><div class=\"sk-container\" hidden><div class=\"sk-item\"><div class=\"sk-estimator sk-toggleable\"><input class=\"sk-toggleable__control sk-hidden--visually\" id=\"sk-estimator-id-1\" type=\"checkbox\" checked><label for=\"sk-estimator-id-1\" class=\"sk-toggleable__label sk-toggleable__label-arrow\">KNeighborsClassifier</label><div class=\"sk-toggleable__content\"><pre>KNeighborsClassifier()</pre></div></div></div></div></div>"
      ],
      "text/plain": [
       "KNeighborsClassifier()"
      ]
     },
     "execution_count": 12,
     "metadata": {},
     "output_type": "execute_result"
    }
   ],
   "source": [
    "from sklearn.neighbors import KNeighborsClassifier\n",
    "\n",
    "model = KNeighborsClassifier()\n",
    "model.fit(data_train, np.array(y_train))"
   ]
  },
  {
   "cell_type": "code",
   "execution_count": 13,
   "id": "68542cfc-ac7d-4262-a7b4-b2e60eb8442e",
   "metadata": {},
   "outputs": [],
   "source": [
    "predictions_knn = model.predict(data_test)"
   ]
  },
  {
   "cell_type": "markdown",
   "id": "c7be834c-cd34-4a7b-b2d3-23ab0532fce5",
   "metadata": {
    "tags": []
   },
   "source": [
    "### Pecision, Recall, F1-Score"
   ]
  },
  {
   "cell_type": "code",
   "execution_count": 14,
   "id": "25b70c06-286e-4f99-ad9d-affb1f7445c6",
   "metadata": {},
   "outputs": [
    {
     "name": "stdout",
     "output_type": "stream",
     "text": [
      "              precision    recall  f1-score   support\n",
      "\n",
      "           1       0.24      0.07      0.11       492\n",
      "           4       0.75      0.93      0.83      1468\n",
      "\n",
      "    accuracy                           0.71      1960\n",
      "   macro avg       0.50      0.50      0.47      1960\n",
      "weighted avg       0.62      0.71      0.65      1960\n",
      "\n"
     ]
    }
   ],
   "source": [
    "print(classification_report(y_test,predictions_knn))"
   ]
  },
  {
   "cell_type": "markdown",
   "id": "28a1aa20-951f-4292-aef9-a030598b9e6d",
   "metadata": {},
   "source": [
    "### Matriz de confusão\n",
    "---------\n",
    " 0 - gato;\n",
    " 1 - cachorro"
   ]
  },
  {
   "cell_type": "code",
   "execution_count": 15,
   "id": "1bdd8599-972b-46ae-ab1c-61a1cff4b453",
   "metadata": {},
   "outputs": [
    {
     "data": {
      "image/png": "[encoded data removed]",
      "text/plain": [
       "<Figure size 648x648 with 2 Axes>"
      ]
     },
     "metadata": {
      "needs_background": "light"
     },
     "output_type": "display_data"
    }
   ],
   "source": [
    "import seaborn as sns\n",
    "\n",
    "acc_svm = accuracy_score(y_test, predictions_knn)\n",
    "cm = confusion_matrix(y_test, predictions_knn)\n",
    "\n",
    "plt.figure(figsize=(9,9))\n",
    "sns.heatmap(cm, annot=True, fmt=\".3f\", linewidths=.5, square = True, cmap = 'Blues_r');\n",
    "plt.ylabel('Actual label');\n",
    "plt.xlabel('Predicted label');\n",
    "all_sample_title = 'Accuracy Score: {0}'.format(acc_svm)\n",
    "plt.title(all_sample_title, size = 15);"
   ]
  },
  {
   "cell_type": "markdown",
   "id": "65909224-070d-4548-8907-9243af273cb4",
   "metadata": {
    "tags": []
   },
   "source": [
    "# Treinamento Logistic Regression"
   ]
  },
  {
   "cell_type": "code",
   "execution_count": 16,
   "id": "aafa78f2-4bc9-4ec8-bb00-494f3c2ce36e",
   "metadata": {},
   "outputs": [
    {
     "data": {
      "text/html": [
       "<style>#sk-container-id-2 {color: black;background-color: white;}#sk-container-id-2 pre{padding: 0;}#sk-container-id-2 div.sk-toggleable {background-color: white;}#sk-container-id-2 label.sk-toggleable__label {cursor: pointer;display: block;width: 100%;margin-bottom: 0;padding: 0.3em;box-sizing: border-box;text-align: center;}#sk-container-id-2 label.sk-toggleable__label-arrow:before {content: \"▸\";float: left;margin-right: 0.25em;color: #696969;}#sk-container-id-2 label.sk-toggleable__label-arrow:hover:before {color: black;}#sk-container-id-2 div.sk-estimator:hover label.sk-toggleable__label-arrow:before {color: black;}#sk-container-id-2 div.sk-toggleable__content {max-height: 0;max-width: 0;overflow: hidden;text-align: left;background-color: #f0f8ff;}#sk-container-id-2 div.sk-toggleable__content pre {margin: 0.2em;color: black;border-radius: 0.25em;background-color: #f0f8ff;}#sk-container-id-2 input.sk-toggleable__control:checked~div.sk-toggleable__content {max-height: 200px;max-width: 100%;overflow: auto;}#sk-container-id-2 input.sk-toggleable__control:checked~label.sk-toggleable__label-arrow:before {content: \"▾\";}#sk-container-id-2 div.sk-estimator input.sk-toggleable__control:checked~label.sk-toggleable__label {background-color: #d4ebff;}#sk-container-id-2 div.sk-label input.sk-toggleable__control:checked~label.sk-toggleable__label {background-color: #d4ebff;}#sk-container-id-2 input.sk-hidden--visually {border: 0;clip: rect(1px 1px 1px 1px);clip: rect(1px, 1px, 1px, 1px);height: 1px;margin: -1px;overflow: hidden;padding: 0;position: absolute;width: 1px;}#sk-container-id-2 div.sk-estimator {font-family: monospace;background-color: #f0f8ff;border: 1px dotted black;border-radius: 0.25em;box-sizing: border-box;margin-bottom: 0.5em;}#sk-container-id-2 div.sk-estimator:hover {background-color: #d4ebff;}#sk-container-id-2 div.sk-parallel-item::after {content: \"\";width: 100%;border-bottom: 1px solid gray;flex-grow: 1;}#sk-container-id-2 div.sk-label:hover label.sk-toggleable__label {background-color: #d4ebff;}#sk-container-id-2 div.sk-serial::before {content: \"\";position: absolute;border-left: 1px solid gray;box-sizing: border-box;top: 0;bottom: 0;left: 50%;z-index: 0;}#sk-container-id-2 div.sk-serial {display: flex;flex-direction: column;align-items: center;background-color: white;padding-right: 0.2em;padding-left: 0.2em;position: relative;}#sk-container-id-2 div.sk-item {position: relative;z-index: 1;}#sk-container-id-2 div.sk-parallel {display: flex;align-items: stretch;justify-content: center;background-color: white;position: relative;}#sk-container-id-2 div.sk-item::before, #sk-container-id-2 div.sk-parallel-item::before {content: \"\";position: absolute;border-left: 1px solid gray;box-sizing: border-box;top: 0;bottom: 0;left: 50%;z-index: -1;}#sk-container-id-2 div.sk-parallel-item {display: flex;flex-direction: column;z-index: 1;position: relative;background-color: white;}#sk-container-id-2 div.sk-parallel-item:first-child::after {align-self: flex-end;width: 50%;}#sk-container-id-2 div.sk-parallel-item:last-child::after {align-self: flex-start;width: 50%;}#sk-container-id-2 div.sk-parallel-item:only-child::after {width: 0;}#sk-container-id-2 div.sk-dashed-wrapped {border: 1px dashed gray;margin: 0 0.4em 0.5em 0.4em;box-sizing: border-box;padding-bottom: 0.4em;background-color: white;}#sk-container-id-2 div.sk-label label {font-family: monospace;font-weight: bold;display: inline-block;line-height: 1.2em;}#sk-container-id-2 div.sk-label-container {text-align: center;}#sk-container-id-2 div.sk-container {/* jupyter's `normalize.less` sets `[hidden] { display: none; }` but bootstrap.min.css set `[hidden] { display: none !important; }` so we also need the `!important` here to be able to override the default hidden behavior on the sphinx rendered scikit-learn.org. See: https://github.com/scikit-learn/scikit-learn/issues/21755 */display: inline-block !important;position: relative;}#sk-container-id-2 div.sk-text-repr-fallback {display: none;}</style><div id=\"sk-container-id-2\" class=\"sk-top-container\"><div class=\"sk-text-repr-fallback\"><pre>LogisticRegression()</pre><b>In a Jupyter environment, please rerun this cell to show the HTML representation or trust the notebook. <br />On GitHub, the HTML representation is unable to render, please try loading this page with nbviewer.org.</b></div><div class=\"sk-container\" hidden><div class=\"sk-item\"><div class=\"sk-estimator sk-toggleable\"><input class=\"sk-toggleable__control sk-hidden--visually\" id=\"sk-estimator-id-2\" type=\"checkbox\" checked><label for=\"sk-estimator-id-2\" class=\"sk-toggleable__label sk-toggleable__label-arrow\">LogisticRegression</label><div class=\"sk-toggleable__content\"><pre>LogisticRegression()</pre></div></div></div></div></div>"
      ],
      "text/plain": [
       "LogisticRegression()"
      ]
     },
     "execution_count": 16,
     "metadata": {},
     "output_type": "execute_result"
    }
   ],
   "source": [
    "from sklearn.linear_model import LogisticRegression\n",
    "\n",
    "logisticRegr = LogisticRegression()\n",
    "logisticRegr.fit(data_train, np.array(y_train))"
   ]
  },
  {
   "cell_type": "code",
   "execution_count": 17,
   "id": "be861321-3871-4c1f-87de-9af83c77f229",
   "metadata": {},
   "outputs": [],
   "source": [
    "predictions_lr = model.predict(data_test)"
   ]
  },
  {
   "cell_type": "markdown",
   "id": "96372142-aed2-42b2-8151-e05c50919bff",
   "metadata": {
    "tags": []
   },
   "source": [
    "### Pecision, Recall, F1-Score"
   ]
  },
  {
   "cell_type": "code",
   "execution_count": 18,
   "id": "5a626a41-10e9-4845-8e0f-cad34d08100e",
   "metadata": {},
   "outputs": [
    {
     "name": "stdout",
     "output_type": "stream",
     "text": [
      "              precision    recall  f1-score   support\n",
      "\n",
      "           1       0.24      0.07      0.11       492\n",
      "           4       0.75      0.93      0.83      1468\n",
      "\n",
      "    accuracy                           0.71      1960\n",
      "   macro avg       0.50      0.50      0.47      1960\n",
      "weighted avg       0.62      0.71      0.65      1960\n",
      "\n"
     ]
    }
   ],
   "source": [
    "print(classification_report(y_test,predictions_lr))"
   ]
  },
  {
   "cell_type": "markdown",
   "id": "ae0fedd5-7bda-4f75-b66f-d4f9153e160a",
   "metadata": {},
   "source": [
    "### Matriz de confusão\n",
    "---------\n",
    " 0 - gato;\n",
    " 1 - cachorro"
   ]
  },
  {
   "cell_type": "code",
   "execution_count": 19,
   "id": "36cccc68-af7a-4c7d-96fd-4efc1c80a33d",
   "metadata": {},
   "outputs": [
    {
     "data": {
      "image/png": "[encoded data removed]",
      "text/plain": [
       "<Figure size 648x648 with 2 Axes>"
      ]
     },
     "metadata": {
      "needs_background": "light"
     },
     "output_type": "display_data"
    }
   ],
   "source": [
    "import seaborn as sns\n",
    "\n",
    "acc_svm = accuracy_score(y_test, predictions_lr)\n",
    "cm = confusion_matrix(y_test, predictions_lr)\n",
    "\n",
    "plt.figure(figsize=(9,9))\n",
    "sns.heatmap(cm, annot=True, fmt=\".3f\", linewidths=.5, square = True, cmap = 'Blues_r');\n",
    "plt.ylabel('Actual label');\n",
    "plt.xlabel('Predicted label');\n",
    "all_sample_title = 'Accuracy Score: {0}'.format(acc_svm)\n",
    "plt.title(all_sample_title, size = 15);"
   ]
  },
  {
   "cell_type": "code",
   "execution_count": null,
   "id": "5353f382-1952-41ac-9b1c-760d7f6f203a",
   "metadata": {},
   "outputs": [],
   "source": []
  }
 ],
 "metadata": {
  "kernelspec": {
   "display_name": "Python 3 (ipykernel)",
   "language": "python",
   "name": "python3"
  },
  "language_info": {
   "codemirror_mode": {
    "name": "ipython",
    "version": 3
   },
   "file_extension": ".py",
   "mimetype": "text/x-python",
   "name": "python",
   "nbconvert_exporter": "python",
   "pygments_lexer": "ipython3",
   "version": "3.8.8"
  }
 },
 "nbformat": 4,
 "nbformat_minor": 5
}
